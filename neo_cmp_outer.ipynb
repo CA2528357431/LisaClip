{
 "cells": [
  {
   "cell_type": "code",
   "execution_count": 1,
   "metadata": {
    "collapsed": true
   },
   "outputs": [],
   "source": [
    "import torch\n",
    "import torch.optim as optim\n",
    "import torchvision\n",
    "import torchvision.transforms as transforms\n",
    "from PIL import Image\n",
    "\n",
    "from network.styler import Unet\n",
    "from loss.loss import CLIPLoss\n",
    "from utils.func import get_features,vgg_normalize\n",
    "\n",
    "import time"
   ]
  },
  {
   "cell_type": "code",
   "execution_count": 2,
   "outputs": [],
   "source": [
    "device = \"cuda\" if torch.cuda.is_available() else \"cpu\"\n",
    "\n",
    "lr1 = 0.0001\n",
    "lr2 = 0.0003\n",
    "# model = Unet(device)\n",
    "model = Unet().to(device)\n",
    "cliploss = CLIPLoss(device)\n",
    "# mseloss = torch.nn.MSELoss()\n",
    "vgg = torchvision.models.vgg19(pretrained=True).features.to(device)\n",
    "for x in vgg.parameters():\n",
    "    x.requires_grad = False\n",
    "\n",
    "\n",
    "topil = transforms.ToPILImage()\n",
    "topic = transforms.ToTensor()\n",
    "\n",
    "dir_lambda = 500\n",
    "content_lambda = 150\n",
    "patch_lambda = 9000\n",
    "norm_lambda = 0.002\n",
    "gol_lambda = 300"
   ],
   "metadata": {
    "collapsed": false,
    "pycharm": {
     "name": "#%%\n"
    }
   }
  },
  {
   "cell_type": "code",
   "execution_count": 3,
   "outputs": [],
   "source": [
    "loss_li = [0]*200"
   ],
   "metadata": {
    "collapsed": false,
    "pycharm": {
     "name": "#%%\n"
    }
   }
  },
  {
   "cell_type": "code",
   "execution_count": 4,
   "outputs": [],
   "source": [
    "def train(iteration1, iteration2, pic, source, target, path):\n",
    "    input = pic\n",
    "\n",
    "    # opt = optim.Adam(model.parameters(), lr=lr1)\n",
    "    # for i in range(iteration1):\n",
    "    #     opt.zero_grad()\n",
    "    #     neo_pic = model(input)\n",
    "    #     loss = mseloss(pic, neo_pic) * 1\n",
    "    #     loss.backward()\n",
    "    #     opt.step()\n",
    "    #     pil = topil(neo_pic.squeeze(0).cpu())\n",
    "    #     print(\"iter:\", i + 1, \"loss:\", loss.item())\n",
    "    #     if ((i + 1) % 50) == 0:\n",
    "    #         pil.save(f\"./pic1/{(i + 1) // 50}.jpg\")\n",
    "    #\n",
    "    #\n",
    "    # torch.save(model,'unet.pth')\n",
    "\n",
    "\n",
    "    # model = torch.load('unet.pth')\n",
    "\n",
    "    pic_f = get_features(vgg_normalize(pic),vgg)\n",
    "\n",
    "    opt = optim.Adam(model.parameters(), lr=lr2)\n",
    "    sch = torch.optim.lr_scheduler.StepLR(opt, step_size=100, gamma=0.5)\n",
    "    for i in range(iteration2):\n",
    "\n",
    "\n",
    "        opt.zero_grad()\n",
    "        neo_pic = model(input)\n",
    "\n",
    "        dir_loss = 0\n",
    "        dir_loss += cliploss.forward_dir(pic, source, neo_pic, target)\n",
    "\n",
    "        gol_loss = 0\n",
    "        # gol_loss += cliploss.forward_gol(pic, source, neo_pic, target)\n",
    "\n",
    "        content_loss = 0\n",
    "        neo_pic_f = get_features(vgg_normalize(neo_pic), vgg)\n",
    "        content_loss += torch.mean((pic_f['conv4_2'] - neo_pic_f['conv4_2']) ** 2)\n",
    "        content_loss += torch.mean((pic_f['conv5_2'] - neo_pic_f['conv5_2']) ** 2)\n",
    "\n",
    "        patch_loss = 0\n",
    "        patch_loss += cliploss.forward_patch(pic, source, neo_pic, target)\n",
    "\n",
    "        norm_loss = 0\n",
    "        norm_loss += cliploss.forward_prior(pic, source, neo_pic, target)\n",
    "\n",
    "        loss = dir_loss * dir_lambda + \\\n",
    "               content_loss * content_lambda + \\\n",
    "               patch_loss * patch_lambda + \\\n",
    "               norm_loss * norm_lambda + \\\n",
    "               gol_loss * gol_lambda\n",
    "\n",
    "        loss.backward()\n",
    "        opt.step()\n",
    "        sch.step()\n",
    "\n",
    "        loss_li[i] = loss.item()\n",
    "        print(\"iter:\", i + 1, \"loss:\", loss.item())\n",
    "\n",
    "    with torch.no_grad():\n",
    "        neo_pic = model(input)\n",
    "        pil = topil(neo_pic.squeeze(0).cpu())\n",
    "        pil = transforms.Resize(size=ori_size, interpolation=Image.BICUBIC)(pil)\n",
    "        pil.save(f\"mid.jpg\")\n",
    "\n",
    "        # pil = topil(neo_pic.squeeze(0).cpu())\n",
    "        # if ((i + 1) % 10) == 0:\n",
    "        #     pil.save(f\"./pic2/{(i + 1) // 10}.jpg\")\n",
    "\n",
    "    # neo_pic = model(input)\n",
    "    # pil = topil(neo_pic.squeeze(0).cpu())\n",
    "    # # pil.save(f\"{source}-{target}.jpg\")\n",
    "    # pil.save(path)"
   ],
   "metadata": {
    "collapsed": false,
    "pycharm": {
     "name": "#%%\n"
    }
   }
  },
  {
   "cell_type": "code",
   "execution_count": 5,
   "outputs": [
    {
     "name": "stderr",
     "output_type": "stream",
     "text": [
      "C:\\Users\\win10\\AppData\\Local\\Temp\\ipykernel_25068\\511628581.py:3: DeprecationWarning: BICUBIC is deprecated and will be removed in Pillow 10 (2023-07-01). Use Resampling.BICUBIC instead.\n",
      "  pil = transforms.Resize(size=(512, 512), interpolation=Image.BICUBIC)(pil)\n",
      "E:\\Anaconda\\envs\\sth\\lib\\site-packages\\torchvision\\transforms\\transforms.py:257: UserWarning: Argument interpolation should be of type InterpolationMode instead of int. Please, use InterpolationMode enum.\n",
      "  warnings.warn(\n"
     ]
    }
   ],
   "source": [
    "pil = Image.open(f\"./source_pic/face5.jpg\")\n",
    "ori_size = pil.size[::-1]\n",
    "pil = transforms.Resize(size=(512, 512), interpolation=Image.BICUBIC)(pil)\n",
    "pic = topic(pil).unsqueeze(0).to(device)\n",
    "# pic = torch.ones(1, 3, 512, 512).to(device)\n",
    "pic.requires_grad = False"
   ],
   "metadata": {
    "collapsed": false,
    "pycharm": {
     "name": "#%%\n"
    }
   }
  },
  {
   "cell_type": "code",
   "execution_count": 6,
   "outputs": [],
   "source": [
    "source = \"photo\"\n",
    "# source = \"black swan\"\n",
    "\n",
    "# target = \"Metal\"\n",
    "# target = \"Neon Light\"\n",
    "# target = \"white swan\"\n",
    "# target = \"Pixar\"\n",
    "# target = \"pop art of night city\"\n",
    "target = \"Van Gogh\"\n",
    "# target = \"the scream by Edvard Munch\"\n",
    "# target = \"Monet\"\n",
    "# target = \"cyberpunk 2077\"\n",
    "# target = \"Chinese Ink and wash painting\"\n",
    "# target = \"fire\"\n",
    "# target = \"woman\"\n",
    "# target = \"man with dark black skin and black hair\"\n",
    "# target = \"gold boat\"\n",
    "# target = \"The great wave off kanagawa by Hokusai\"\n",
    "# target = \"angry peppa pig\"\n",
    "# target = \"Mona Lisa by Leonardo da Vinci\"\n",
    "\n",
    "path = \"result/result3.jpg\""
   ],
   "metadata": {
    "collapsed": false,
    "pycharm": {
     "name": "#%%\n"
    }
   }
  },
  {
   "cell_type": "code",
   "execution_count": 7,
   "outputs": [
    {
     "name": "stdout",
     "output_type": "stream",
     "text": [
      "iter: 1 loss: 9670.6826171875\n",
      "iter: 2 loss: 9551.8759765625\n",
      "iter: 3 loss: 9343.443359375\n",
      "iter: 4 loss: 9127.0341796875\n",
      "iter: 5 loss: 9041.9287109375\n",
      "iter: 6 loss: 8910.7099609375\n",
      "iter: 7 loss: 8856.966796875\n",
      "iter: 8 loss: 8731.07421875\n",
      "iter: 9 loss: 8655.474609375\n",
      "iter: 10 loss: 8579.9462890625\n",
      "iter: 11 loss: 8510.30859375\n",
      "iter: 12 loss: 8446.69140625\n",
      "iter: 13 loss: 8359.8291015625\n",
      "iter: 14 loss: 8301.408203125\n",
      "iter: 15 loss: 8232.48828125\n",
      "iter: 16 loss: 8198.681640625\n",
      "iter: 17 loss: 8139.26708984375\n",
      "iter: 18 loss: 8080.61474609375\n",
      "iter: 19 loss: 8040.58935546875\n",
      "iter: 20 loss: 8065.53076171875\n",
      "iter: 21 loss: 7990.1044921875\n",
      "iter: 22 loss: 8011.3427734375\n",
      "iter: 23 loss: 8001.61572265625\n",
      "iter: 24 loss: 7870.384765625\n",
      "iter: 25 loss: 7854.74169921875\n",
      "iter: 26 loss: 7860.2177734375\n",
      "iter: 27 loss: 7804.97216796875\n",
      "iter: 28 loss: 7811.123046875\n",
      "iter: 29 loss: 7839.1884765625\n",
      "iter: 30 loss: 7708.1572265625\n",
      "iter: 31 loss: 7725.52734375\n",
      "iter: 32 loss: 7686.5537109375\n",
      "iter: 33 loss: 7664.359375\n",
      "iter: 34 loss: 7640.2578125\n",
      "iter: 35 loss: 7586.90478515625\n",
      "iter: 36 loss: 7626.66064453125\n",
      "iter: 37 loss: 7581.517578125\n",
      "iter: 38 loss: 7590.89306640625\n",
      "iter: 39 loss: 7625.64501953125\n",
      "iter: 40 loss: 7503.01025390625\n",
      "iter: 41 loss: 7539.73388671875\n",
      "iter: 42 loss: 7448.61669921875\n",
      "iter: 43 loss: 7391.96728515625\n",
      "iter: 44 loss: 7427.390625\n",
      "iter: 45 loss: 7494.546875\n",
      "iter: 46 loss: 7445.42041015625\n",
      "iter: 47 loss: 7411.74072265625\n",
      "iter: 48 loss: 7353.26416015625\n",
      "iter: 49 loss: 7325.60498046875\n",
      "iter: 50 loss: 7306.57666015625\n",
      "iter: 51 loss: 7360.72998046875\n",
      "iter: 52 loss: 7331.0205078125\n",
      "iter: 53 loss: 7326.08740234375\n",
      "iter: 54 loss: 7326.859375\n",
      "iter: 55 loss: 7231.970703125\n",
      "iter: 56 loss: 7188.58447265625\n",
      "iter: 57 loss: 7247.771484375\n",
      "iter: 58 loss: 7192.431640625\n",
      "iter: 59 loss: 7208.240234375\n",
      "iter: 60 loss: 7184.00830078125\n",
      "iter: 61 loss: 7166.8515625\n",
      "iter: 62 loss: 7134.80029296875\n",
      "iter: 63 loss: 7135.3359375\n",
      "iter: 64 loss: 7124.0439453125\n",
      "iter: 65 loss: 7194.8857421875\n",
      "iter: 66 loss: 7104.03662109375\n",
      "iter: 67 loss: 7106.4921875\n",
      "iter: 68 loss: 7104.203125\n",
      "iter: 69 loss: 7034.767578125\n",
      "iter: 70 loss: 6988.62841796875\n",
      "iter: 71 loss: 7033.962890625\n",
      "iter: 72 loss: 7078.52685546875\n",
      "iter: 73 loss: 7011.486328125\n",
      "iter: 74 loss: 6979.08154296875\n",
      "iter: 75 loss: 6958.6796875\n",
      "iter: 76 loss: 6954.6513671875\n",
      "iter: 77 loss: 6971.75390625\n",
      "iter: 78 loss: 6952.228515625\n",
      "iter: 79 loss: 6954.673828125\n",
      "iter: 80 loss: 6955.19140625\n",
      "iter: 81 loss: 6968.03271484375\n",
      "iter: 82 loss: 6960.24560546875\n",
      "iter: 83 loss: 6961.7978515625\n",
      "iter: 84 loss: 6913.537109375\n",
      "iter: 85 loss: 6999.67822265625\n",
      "iter: 86 loss: 6945.0185546875\n",
      "iter: 87 loss: 6945.025390625\n",
      "iter: 88 loss: 6927.5498046875\n",
      "iter: 89 loss: 6858.76708984375\n",
      "iter: 90 loss: 6838.78515625\n",
      "iter: 91 loss: 6860.5400390625\n",
      "iter: 92 loss: 6900.5341796875\n",
      "iter: 93 loss: 6868.90869140625\n",
      "iter: 94 loss: 6840.9287109375\n",
      "iter: 95 loss: 6867.1005859375\n",
      "iter: 96 loss: 6900.146484375\n",
      "iter: 97 loss: 6837.6240234375\n",
      "iter: 98 loss: 6857.1025390625\n",
      "iter: 99 loss: 6862.15869140625\n",
      "iter: 100 loss: 6824.18798828125\n",
      "iter: 101 loss: 6783.541015625\n",
      "iter: 102 loss: 6758.50537109375\n",
      "iter: 103 loss: 6787.08642578125\n",
      "iter: 104 loss: 6772.81103515625\n",
      "iter: 105 loss: 6679.06103515625\n",
      "iter: 106 loss: 6683.30615234375\n",
      "iter: 107 loss: 6695.943359375\n",
      "iter: 108 loss: 6699.46484375\n",
      "iter: 109 loss: 6672.6708984375\n",
      "iter: 110 loss: 6736.73583984375\n",
      "iter: 111 loss: 6749.603515625\n",
      "iter: 112 loss: 6676.70849609375\n",
      "iter: 113 loss: 6688.0361328125\n",
      "iter: 114 loss: 6620.861328125\n",
      "iter: 115 loss: 6614.0205078125\n",
      "iter: 116 loss: 6586.10693359375\n",
      "iter: 117 loss: 6637.99169921875\n",
      "iter: 118 loss: 6672.88134765625\n",
      "iter: 119 loss: 6604.20751953125\n",
      "iter: 120 loss: 6555.75048828125\n",
      "iter: 121 loss: 6563.5810546875\n",
      "iter: 122 loss: 6581.35009765625\n",
      "iter: 123 loss: 6542.4091796875\n",
      "iter: 124 loss: 6599.294921875\n",
      "iter: 125 loss: 6602.8525390625\n",
      "iter: 126 loss: 6502.8857421875\n",
      "iter: 127 loss: 6573.1982421875\n",
      "iter: 128 loss: 6569.22509765625\n",
      "iter: 129 loss: 6547.927734375\n",
      "iter: 130 loss: 6533.65869140625\n",
      "iter: 131 loss: 6560.96484375\n",
      "iter: 132 loss: 6556.40380859375\n",
      "iter: 133 loss: 6501.34814453125\n",
      "iter: 134 loss: 6576.041015625\n",
      "iter: 135 loss: 6488.337890625\n",
      "iter: 136 loss: 6508.21533203125\n",
      "iter: 137 loss: 6516.88916015625\n",
      "iter: 138 loss: 6529.71875\n",
      "iter: 139 loss: 6507.46337890625\n",
      "iter: 140 loss: 6567.61328125\n",
      "iter: 141 loss: 6547.0419921875\n",
      "iter: 142 loss: 6482.3134765625\n",
      "iter: 143 loss: 6442.0498046875\n",
      "iter: 144 loss: 6537.1513671875\n",
      "iter: 145 loss: 6499.17822265625\n",
      "iter: 146 loss: 6506.453125\n",
      "iter: 147 loss: 6431.90185546875\n",
      "iter: 148 loss: 6489.576171875\n",
      "iter: 149 loss: 6431.05224609375\n",
      "iter: 150 loss: 6467.71240234375\n",
      "iter: 151 loss: 6506.13818359375\n",
      "iter: 152 loss: 6436.21337890625\n",
      "iter: 153 loss: 6467.25830078125\n",
      "iter: 154 loss: 6476.7548828125\n",
      "iter: 155 loss: 6451.779296875\n",
      "iter: 156 loss: 6421.81396484375\n",
      "iter: 157 loss: 6430.01708984375\n",
      "iter: 158 loss: 6492.05322265625\n",
      "iter: 159 loss: 6435.28076171875\n",
      "iter: 160 loss: 6476.50341796875\n",
      "iter: 161 loss: 6416.419921875\n",
      "iter: 162 loss: 6406.43310546875\n",
      "iter: 163 loss: 6468.50537109375\n",
      "iter: 164 loss: 6414.189453125\n",
      "iter: 165 loss: 6457.84228515625\n",
      "iter: 166 loss: 6460.18115234375\n",
      "iter: 167 loss: 6445.13916015625\n",
      "iter: 168 loss: 6440.26220703125\n",
      "iter: 169 loss: 6483.28759765625\n",
      "iter: 170 loss: 6423.552734375\n",
      "iter: 171 loss: 6433.4306640625\n",
      "iter: 172 loss: 6419.66943359375\n",
      "iter: 173 loss: 6398.5205078125\n",
      "iter: 174 loss: 6346.701171875\n",
      "iter: 175 loss: 6368.43701171875\n",
      "iter: 176 loss: 6342.375\n",
      "iter: 177 loss: 6399.60888671875\n",
      "iter: 178 loss: 6371.63427734375\n",
      "iter: 179 loss: 6348.75244140625\n",
      "iter: 180 loss: 6361.91796875\n",
      "iter: 181 loss: 6343.16650390625\n",
      "iter: 182 loss: 6354.6796875\n",
      "iter: 183 loss: 6367.775390625\n",
      "iter: 184 loss: 6380.638671875\n",
      "iter: 185 loss: 6362.70556640625\n",
      "iter: 186 loss: 6364.58642578125\n",
      "iter: 187 loss: 6349.22021484375\n",
      "iter: 188 loss: 6311.736328125\n",
      "iter: 189 loss: 6337.54443359375\n",
      "iter: 190 loss: 6416.6904296875\n",
      "iter: 191 loss: 6287.93115234375\n",
      "iter: 192 loss: 6314.046875\n",
      "iter: 193 loss: 6291.5185546875\n",
      "iter: 194 loss: 6361.82373046875\n",
      "iter: 195 loss: 6384.05029296875\n",
      "iter: 196 loss: 6331.591796875\n",
      "iter: 197 loss: 6268.79052734375\n",
      "iter: 198 loss: 6330.85546875\n",
      "iter: 199 loss: 6292.74169921875\n",
      "iter: 200 loss: 6322.4384765625\n",
      "usetime: 94.49838399887085\n"
     ]
    },
    {
     "name": "stderr",
     "output_type": "stream",
     "text": [
      "C:\\Users\\win10\\AppData\\Local\\Temp\\ipykernel_25068\\1389563984.py:65: DeprecationWarning: BICUBIC is deprecated and will be removed in Pillow 10 (2023-07-01). Use Resampling.BICUBIC instead.\n",
      "  pil = transforms.Resize(size=ori_size, interpolation=Image.BICUBIC)(pil)\n"
     ]
    }
   ],
   "source": [
    "start = time.time()\n",
    "train(200, 200, pic, source, target, path)\n",
    "end = time.time()\n",
    "usetime = end - start\n",
    "print(f\"usetime: {usetime}\")"
   ],
   "metadata": {
    "collapsed": false,
    "pycharm": {
     "name": "#%%\n"
    }
   }
  },
  {
   "cell_type": "code",
   "execution_count": 8,
   "outputs": [
    {
     "data": {
      "text/plain": "[<matplotlib.lines.Line2D at 0x20991d016a0>]"
     },
     "execution_count": 8,
     "metadata": {},
     "output_type": "execute_result"
    },
    {
     "data": {
      "text/plain": "<Figure size 640x480 with 1 Axes>",
      "image/png": "[encoded data removed]"
     },
     "metadata": {},
     "output_type": "display_data"
    }
   ],
   "source": [
    "import matplotlib.pyplot as plt\n",
    "\n",
    "x = [i for i in range(200)]\n",
    "loss_li = [x for x in loss_li]\n",
    "plt.plot(x,loss_li,color=\"red\",marker=\"o\")"
   ],
   "metadata": {
    "collapsed": false,
    "pycharm": {
     "name": "#%%\n"
    }
   }
  },
  {
   "cell_type": "code",
   "execution_count": 9,
   "outputs": [
    {
     "name": "stderr",
     "output_type": "stream",
     "text": [
      "C:\\Users\\win10\\AppData\\Local\\Temp\\ipykernel_25068\\3219620664.py:3: DeprecationWarning: BICUBIC is deprecated and will be removed in Pillow 10 (2023-07-01). Use Resampling.BICUBIC instead.\n",
      "  pil = transforms.Resize(size=ori_size, interpolation=Image.BICUBIC)(pil)\n",
      "E:\\Anaconda\\envs\\sth\\lib\\site-packages\\torchvision\\transforms\\transforms.py:257: UserWarning: Argument interpolation should be of type InterpolationMode instead of int. Please, use InterpolationMode enum.\n",
      "  warnings.warn(\n"
     ]
    }
   ],
   "source": [
    "neo_pic = model(pic)\n",
    "pil = topil(neo_pic.squeeze(0).cpu())\n",
    "pil = transforms.Resize(size=ori_size, interpolation=Image.BICUBIC)(pil)\n",
    "pil.save(path)"
   ],
   "metadata": {
    "collapsed": false,
    "pycharm": {
     "name": "#%%\n"
    }
   }
  },
  {
   "cell_type": "code",
   "execution_count": 10,
   "outputs": [],
   "source": [
    "file_cmp_outer = open(\"styler.txt\", \"r\")\n",
    "read_loss_li = file_cmp_outer.readline()\n",
    "read_loss_li = [float(x) for x in read_loss_li.split()]\n",
    "\n",
    "cur_times = int(file_cmp_outer.readline())"
   ],
   "metadata": {
    "collapsed": false,
    "pycharm": {
     "name": "#%%\n"
    }
   }
  },
  {
   "cell_type": "code",
   "execution_count": 11,
   "outputs": [],
   "source": [
    "# with open(file = \"styler.txt\", mode = \"w\") as file:\n",
    "#     for i in range(200):\n",
    "#\n",
    "#         file.write(str(read_loss_li[i]+loss_li[i])+\" \")\n",
    "#     file.write(\"\\n\")\n",
    "#     file.write(str(cur_times+1))\n",
    "\n",
    "\n",
    "\n"
   ],
   "metadata": {
    "collapsed": false,
    "pycharm": {
     "name": "#%%\n"
    }
   }
  }
 ],
 "metadata": {
  "kernelspec": {
   "display_name": "Python 3",
   "language": "python",
   "name": "python3"
  },
  "language_info": {
   "codemirror_mode": {
    "name": "ipython",
    "version": 2
   },
   "file_extension": ".py",
   "mimetype": "text/x-python",
   "name": "python",
   "nbconvert_exporter": "python",
   "pygments_lexer": "ipython2",
   "version": "2.7.6"
  }
 },
 "nbformat": 4,
 "nbformat_minor": 0
}