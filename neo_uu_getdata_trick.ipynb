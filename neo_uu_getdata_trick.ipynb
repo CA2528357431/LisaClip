{
 "cells": [
  {
   "cell_type": "code",
   "execution_count": 1,
   "metadata": {
    "collapsed": true
   },
   "outputs": [],
   "source": [
    "import torch\n",
    "import torch.optim as optim\n",
    "import torchvision\n",
    "import torchvision.transforms as transforms\n",
    "from PIL import Image\n",
    "\n",
    "from network.mynetwork_uu import Unet\n",
    "from loss.loss import CLIPLoss\n",
    "from utils.func import get_features,vgg_normalize\n",
    "\n",
    "import time"
   ]
  },
  {
   "cell_type": "code",
   "execution_count": 2,
   "outputs": [
    {
     "name": "stdout",
     "output_type": "stream",
     "text": [
      "cuda\n",
      "True\n"
     ]
    }
   ],
   "source": [
    "device = \"cuda\" if torch.cuda.is_available() else \"cpu\"\n",
    "print(device)\n",
    "print(torch.cuda.is_available())"
   ],
   "metadata": {
    "collapsed": false,
    "pycharm": {
     "name": "#%%\n"
    }
   }
  },
  {
   "cell_type": "code",
   "execution_count": 3,
   "outputs": [],
   "source": [
    "model = Unet(device).to(device)\n",
    "# model = Unet().to(device)\n",
    "cliploss = CLIPLoss(device)\n",
    "mseloss = torch.nn.MSELoss()\n",
    "vgg = torchvision.models.vgg19(pretrained=True).features.to(device)\n",
    "for x in vgg.parameters():\n",
    "    x.requires_grad = False\n",
    "\n",
    "topil = transforms.ToPILImage()\n",
    "topic = transforms.ToTensor()"
   ],
   "metadata": {
    "collapsed": false,
    "pycharm": {
     "name": "#%%\n"
    }
   }
  },
  {
   "cell_type": "code",
   "execution_count": 4,
   "outputs": [],
   "source": [
    "lr1 = 0.001\n",
    "lr2 = 0.0003\n",
    "\n",
    "# lr_fast = 0.0003\n",
    "# lr_slow = 0.0004\n",
    "\n",
    "dir_lambda = 500\n",
    "content_lambda = 150\n",
    "patch_lambda = 9000\n",
    "norm_lambda = 0.002\n",
    "gol_lambda = 300\n"
   ],
   "metadata": {
    "collapsed": false,
    "pycharm": {
     "name": "#%%\n"
    }
   }
  },
  {
   "cell_type": "code",
   "execution_count": 5,
   "outputs": [],
   "source": [
    "loss_li = [0]*200\n"
   ],
   "metadata": {
    "collapsed": false,
    "pycharm": {
     "name": "#%%\n"
    }
   }
  },
  {
   "cell_type": "code",
   "execution_count": 6,
   "outputs": [
    {
     "name": "stderr",
     "output_type": "stream",
     "text": [
      "C:\\Users\\win10\\AppData\\Local\\Temp\\ipykernel_49160\\644806077.py:4: DeprecationWarning: BICUBIC is deprecated and will be removed in Pillow 10 (2023-07-01). Use Resampling.BICUBIC instead.\n",
      "  pil = transforms.Resize(size=(512, 512), interpolation=Image.BICUBIC)(pil)\n",
      "E:\\Anaconda\\envs\\sth\\lib\\site-packages\\torchvision\\transforms\\transforms.py:257: UserWarning: Argument interpolation should be of type InterpolationMode instead of int. Please, use InterpolationMode enum.\n",
      "  warnings.warn(\n"
     ]
    }
   ],
   "source": [
    "pil = Image.open(f\"./source_pic/emma.jpg\")\n",
    "# pil = Image.open(f\"resulto.jpg\")\n",
    "ori_size = pil.size[::-1]\n",
    "pil = transforms.Resize(size=(512, 512), interpolation=Image.BICUBIC)(pil)\n",
    "pic = topic(pil).unsqueeze(0).to(device)\n",
    "# pic = torch.ones(1, 3, 512, 512).to(device)\n",
    "pic.requires_grad = False\n",
    "# pic[:,1,:,:] = 0"
   ],
   "metadata": {
    "collapsed": false,
    "pycharm": {
     "name": "#%%\n"
    }
   }
  },
  {
   "cell_type": "code",
   "execution_count": 7,
   "outputs": [],
   "source": [
    "source = \"photo\"\n",
    "# source = \"cat\"\n",
    "# source = \"CG picture\"\n",
    "# source = \"happy\"\n",
    "# source = \"woman\"\n",
    "# source = \"cartoon\"\n",
    "# source = \"red car\"\n",
    "\n",
    "# target = \"gold car\"\n",
    "# target = \"Mark Elliot Zuckerberg\"\n",
    "# target = \"Barack Obama\"\n",
    "target = \"Mona Lisa by Leonardo da Vinci\"\n",
    "# target = \"angry\"\n",
    "# target = \"girl\"\n",
    "# target = \"Neon Light\"\n",
    "# target = \"black car\"\n",
    "# target = \"pop art\"\n",
    "# target = \"baby girl\"\n",
    "# target = \"Watercolor Art with Thick Brush\"\n",
    "# target = \"Pixar\"\n",
    "# target = \"watercolor painting with thick brush\"\n",
    "# target = \"starry night by Van Gogh\"\n",
    "# target = \"the scream by Edvard Munch\"\n",
    "# target = \"Monet\"\n",
    "# target = \"cyberpunk 2077\"\n",
    "# target = \"oil painting with thick brush\"\n",
    "# target = \"man with dark black skin and black hair\"\n",
    "# target = \"The great wave off kanagawa by Hokusai\"\n",
    "# target = \"mosaic\"\n",
    "# target = \"fire\"\n",
    "# target = \"Chinese Brush Painting of mountains in black and white\"\n",
    "# target = \"snowy\"\n",
    "# target = \"sketch with pencil\"\n",
    "# target = \"pop art of night city\"\n",
    "# target = \"cubism\"\n",
    "# target = \"Cartoon\"\n",
    "# target = \"anime\"\n",
    "# target = \"white marble carving\"\n",
    "# target = \"steampunk\"\n"
   ],
   "metadata": {
    "collapsed": false,
    "pycharm": {
     "name": "#%%\n"
    }
   }
  },
  {
   "cell_type": "code",
   "execution_count": 8,
   "outputs": [],
   "source": [
    "path = \"result/result02.jpg\""
   ],
   "metadata": {
    "collapsed": false,
    "pycharm": {
     "name": "#%%\n"
    }
   }
  },
  {
   "cell_type": "code",
   "execution_count": 9,
   "outputs": [],
   "source": [
    "dli = []\n",
    "nli = []"
   ],
   "metadata": {
    "collapsed": false,
    "pycharm": {
     "name": "#%%\n"
    }
   }
  },
  {
   "cell_type": "code",
   "execution_count": 10,
   "outputs": [],
   "source": [
    "patch_file = open(f\"./data/nums.txt\", mode=\"w\")"
   ],
   "metadata": {
    "collapsed": false,
    "pycharm": {
     "name": "#%%\n"
    }
   }
  },
  {
   "cell_type": "code",
   "execution_count": 11,
   "outputs": [],
   "source": [
    "def train(iteration1, iteration2, pic, source, target):\n",
    "\n",
    "\n",
    "    input = pic\n",
    "\n",
    "    # pic_f = get_features(vgg_normalize(pic), vgg)\n",
    "    # print(model.parameters())\n",
    "    opt = optim.Adam(model.parameters(), lr=lr1)\n",
    "    for i in range(iteration1):\n",
    "        opt.zero_grad()\n",
    "        neo_pic = model(input)\n",
    "        loss = mseloss(pic, neo_pic) * 1\n",
    "\n",
    "        # loss = 0\n",
    "        # neo_pic_f = get_features(vgg_normalize(neo_pic), vgg)\n",
    "        # loss += torch.mean((pic_f['conv4_2'] - neo_pic_f['conv4_2']) ** 2)\n",
    "        # loss += torch.mean((pic_f['conv5_2'] - neo_pic_f['conv5_2']) ** 2)\n",
    "\n",
    "        loss.backward()\n",
    "        opt.step()\n",
    "\n",
    "        with torch.no_grad():\n",
    "            print(\"iter:\", i + 1, \"loss:\", loss.item())\n",
    "\n",
    "        # pil = topil(neo_pic.squeeze(0).cpu())\n",
    "        # if ((i + 1) % 50) == 0:\n",
    "        #     pil.save(f\"./pic1/{(i + 1) // 50}.jpg\")\n",
    "    with torch.no_grad():\n",
    "        neo_pic = model(input)\n",
    "        pil = topil(neo_pic.squeeze(0).cpu())\n",
    "        pil = transforms.Resize(size=ori_size, interpolation=Image.BICUBIC)(pil)\n",
    "        pil.save(f\"mid.jpg\")\n",
    "\n",
    "\n",
    "    # torch.save(model,'unet.pth')\n",
    "\n",
    "    # model = torch.load('unet.pth')\n",
    "\n",
    "    pic_f = get_features(vgg_normalize(pic),vgg)\n",
    "\n",
    "    opt = optim.Adam(model.parameters(), lr=lr2)\n",
    "    # opt_fast = optim.Adam(model.parameters(), lr=lr_fast)\n",
    "    # opt_slow = optim.Adam(model.parameters(), lr=lr_slow)\n",
    "    # opt_loss = optim.Adam(cliploss.parameters(), lr=lr_slow)\n",
    "\n",
    "    for i in range(iteration2):\n",
    "\n",
    "\n",
    "        opt.zero_grad()\n",
    "        # opt_slow.zero_grad()\n",
    "        # opt_fast.zero_grad()\n",
    "\n",
    "        neo_pic = model(input)\n",
    "\n",
    "        dir_loss = 0\n",
    "        dir_loss += cliploss.forward_dir(pic, source, neo_pic, target)\n",
    "\n",
    "        gol_loss = 0\n",
    "        # gol_loss += cliploss.forward_gol(pic, source, neo_pic, target)\n",
    "\n",
    "        content_loss = 0\n",
    "        content_loss += mseloss(pic, neo_pic)\n",
    "        # neo_pic_f = get_features(vgg_normalize(neo_pic), vgg)\n",
    "        # content_loss += torch.mean((pic_f['conv4_2'] - neo_pic_f['conv4_2']) ** 2)\n",
    "        # content_loss += torch.mean((pic_f['conv5_2'] - neo_pic_f['conv5_2']) ** 2)\n",
    "\n",
    "        patch_loss = 0\n",
    "        # patch_loss += cliploss.forward_patch(pic, source, neo_pic, target)\n",
    "\n",
    "        norm_loss = 0\n",
    "        norm_loss += cliploss.forward_prior(pic, source, neo_pic, target)\n",
    "\n",
    "        loss = dir_loss * dir_lambda + \\\n",
    "               content_loss * content_lambda + \\\n",
    "               patch_loss * patch_lambda + \\\n",
    "               norm_loss * norm_lambda + \\\n",
    "               gol_loss * gol_lambda\n",
    "\n",
    "\n",
    "        patch_loss_fast,patch_loss_slow, li = cliploss.forward_patch_sec(pic, source, neo_pic, target)\n",
    "        patch_loss_fast *= patch_lambda\n",
    "        patch_loss_slow *= patch_lambda\n",
    "\n",
    "        for x in model.res2.parameters():\n",
    "            x.requires_grad = False\n",
    "        patch_loss_slow.backward(retain_graph=True)\n",
    "        for x in model.res2.parameters():\n",
    "            x.requires_grad = True\n",
    "\n",
    "        for x in model.res.parameters():\n",
    "            x.requires_grad = False\n",
    "        for x in model.conv3.parameters():\n",
    "            x.requires_grad = False\n",
    "        for x in model.upsample3.parameters():\n",
    "            x.requires_grad = False\n",
    "        for x in model.deconv3.parameters():\n",
    "            x.requires_grad = False\n",
    "        patch_loss_fast.backward(retain_graph=True)\n",
    "        for x in model.res.parameters():\n",
    "            x.requires_grad = True\n",
    "        for x in model.conv3.parameters():\n",
    "            x.requires_grad = True\n",
    "        for x in model.upsample3.parameters():\n",
    "            x.requires_grad = True\n",
    "        for x in model.deconv3.parameters():\n",
    "            x.requires_grad = True\n",
    "\n",
    "        loss.backward()\n",
    "        # (loss+patch_loss_fast+patch_loss_slow).backward()\n",
    "\n",
    "\n",
    "        opt.step()\n",
    "\n",
    "        # opt_fast.step()\n",
    "        # opt_slow.step()\n",
    "\n",
    "        with torch.no_grad():\n",
    "            # loss_li[i]+=(loss+patch_loss_fast+patch_loss_slow).item()\n",
    "            # print(\"iter:\", i + 1, \"fast_loss:\", patch_loss_fast.item(), \"slow_loss:\", patch_loss_slow.item())\n",
    "            # print(\"iter:\", i + 1, \"loss:\", (loss+patch_loss_fast+patch_loss_slow).item())\n",
    "\n",
    "            patch_loss += cliploss.forward_patch(pic, source, neo_pic, target)*patch_lambda\n",
    "            loss_li[i] += (loss+patch_loss).item()\n",
    "\n",
    "\n",
    "\n",
    "\n",
    "            print(\"iter:\", i + 1, \"loss:\", (loss+patch_loss).item())\n",
    "\n",
    "\n",
    "            for x in li:\n",
    "                patch_file.write(str(x)+\" \")\n",
    "\n",
    "            patch_file.write(\"\\n\")\n",
    "\n",
    "            if (i+1)%10==0  or i==0:\n",
    "                neo_pic = model(input)\n",
    "                pil = topil(neo_pic.squeeze(0).cpu())\n",
    "                pil = transforms.Resize(size=ori_size, interpolation=Image.BICUBIC)(pil)\n",
    "                pil.save(f\"mid/{i//10}.jpg\")\n",
    "\n",
    "            # gli.append(gol_loss.item()*gol_lambda)\n",
    "            dli.append(dir_loss.item()*dir_lambda)\n",
    "            nli.append(norm_loss.item()*norm_lambda)\n",
    "\n",
    "            # if (i+1)%4==0 and cliploss.patch_size>=64:\n",
    "            #     cliploss.patch_size-=8\n",
    "\n",
    "\n",
    "\n",
    "        # pil = topil(neo_pic.squeeze(0).cpu())\n",
    "        # if ((i + 1) % 10) == 0:\n",
    "        #     pil.save(f\"./pic2/{(i + 1) // 10}.jpg\")\n",
    "\n",
    "    # return  model(input)\n",
    "    # neo_pic = model(input)\n",
    "    # pil = topil(neo_pic.squeeze(0).cpu())\n",
    "    # # pil.save(f\"{source}-{target}.jpg\")\n",
    "    # pil.save(path)\n",
    "\n",
    "\n",
    "\n"
   ],
   "metadata": {
    "collapsed": false,
    "pycharm": {
     "name": "#%%\n"
    }
   }
  },
  {
   "cell_type": "code",
   "execution_count": 12,
   "outputs": [
    {
     "name": "stderr",
     "output_type": "stream",
     "text": [
      "C:\\Users\\win10\\AppData\\Local\\Temp\\ipykernel_49160\\3303505946.py:31: DeprecationWarning: BICUBIC is deprecated and will be removed in Pillow 10 (2023-07-01). Use Resampling.BICUBIC instead.\n",
      "  pil = transforms.Resize(size=ori_size, interpolation=Image.BICUBIC)(pil)\n",
      "C:\\Users\\win10\\AppData\\Local\\Temp\\ipykernel_49160\\3303505946.py:139: DeprecationWarning: BICUBIC is deprecated and will be removed in Pillow 10 (2023-07-01). Use Resampling.BICUBIC instead.\n",
      "  pil = transforms.Resize(size=ori_size, interpolation=Image.BICUBIC)(pil)\n"
     ]
    },
    {
     "name": "stdout",
     "output_type": "stream",
     "text": [
      "iter: 1 loss: 9067.8369140625\n",
      "iter: 2 loss: 8940.615234375\n",
      "iter: 3 loss: 8916.615234375\n",
      "iter: 4 loss: 8876.1494140625\n",
      "iter: 5 loss: 8818.1484375\n",
      "iter: 6 loss: 8861.4765625\n",
      "iter: 7 loss: 8857.4501953125\n",
      "iter: 8 loss: 8891.408203125\n",
      "iter: 9 loss: 8886.0146484375\n",
      "iter: 10 loss: 8864.3212890625\n",
      "iter: 11 loss: 8819.0830078125\n",
      "iter: 12 loss: 8790.59375\n",
      "iter: 13 loss: 8796.9267578125\n",
      "iter: 14 loss: 8763.806640625\n",
      "iter: 15 loss: 8807.2412109375\n",
      "iter: 16 loss: 8760.42578125\n",
      "iter: 17 loss: 8713.1015625\n",
      "iter: 18 loss: 8778.298828125\n",
      "iter: 19 loss: 8704.4501953125\n",
      "iter: 20 loss: 8736.8525390625\n",
      "iter: 21 loss: 8709.0234375\n",
      "iter: 22 loss: 8747.23828125\n",
      "iter: 23 loss: 8744.4677734375\n",
      "iter: 24 loss: 8685.94140625\n",
      "iter: 25 loss: 8683.6044921875\n",
      "iter: 26 loss: 8706.0458984375\n",
      "iter: 27 loss: 8656.783203125\n",
      "iter: 28 loss: 8661.7353515625\n",
      "iter: 29 loss: 8672.0390625\n",
      "iter: 30 loss: 8629.1748046875\n",
      "iter: 31 loss: 8650.380859375\n",
      "iter: 32 loss: 8624.1123046875\n",
      "iter: 33 loss: 8709.3203125\n",
      "iter: 34 loss: 8659.7587890625\n",
      "iter: 35 loss: 8627.1787109375\n",
      "iter: 36 loss: 8649.5771484375\n",
      "iter: 37 loss: 8584.044921875\n",
      "iter: 38 loss: 8646.7509765625\n",
      "iter: 39 loss: 8636.98046875\n",
      "iter: 40 loss: 8651.171875\n",
      "iter: 41 loss: 8569.5888671875\n",
      "iter: 42 loss: 8583.9873046875\n",
      "iter: 43 loss: 8607.4501953125\n",
      "iter: 44 loss: 8606.888671875\n",
      "iter: 45 loss: 8578.9150390625\n",
      "iter: 46 loss: 8670.33203125\n",
      "iter: 47 loss: 8539.4521484375\n",
      "iter: 48 loss: 8603.3818359375\n",
      "iter: 49 loss: 8539.3349609375\n",
      "iter: 50 loss: 8633.3818359375\n",
      "iter: 51 loss: 8600.875\n",
      "iter: 52 loss: 8528.6328125\n",
      "iter: 53 loss: 8570.9365234375\n",
      "iter: 54 loss: 8559.1474609375\n",
      "iter: 55 loss: 8495.3828125\n",
      "iter: 56 loss: 8556.84375\n",
      "iter: 57 loss: 8635.46875\n",
      "iter: 58 loss: 8546.865234375\n",
      "iter: 59 loss: 8545.828125\n",
      "iter: 60 loss: 8593.3134765625\n",
      "iter: 61 loss: 8545.8427734375\n",
      "iter: 62 loss: 8480.3642578125\n",
      "iter: 63 loss: 8472.2802734375\n",
      "iter: 64 loss: 8495.9072265625\n",
      "iter: 65 loss: 8523.12890625\n",
      "iter: 66 loss: 8476.4033203125\n",
      "iter: 67 loss: 8517.4697265625\n",
      "iter: 68 loss: 8547.2490234375\n",
      "iter: 69 loss: 8531.1357421875\n",
      "iter: 70 loss: 8429.51953125\n",
      "iter: 71 loss: 8473.0380859375\n",
      "iter: 72 loss: 8472.1123046875\n",
      "iter: 73 loss: 8490.2060546875\n",
      "iter: 74 loss: 8521.7412109375\n",
      "iter: 75 loss: 8445.3681640625\n",
      "iter: 76 loss: 8489.548828125\n",
      "iter: 77 loss: 8504.080078125\n",
      "iter: 78 loss: 8409.1318359375\n",
      "iter: 79 loss: 8442.8974609375\n",
      "iter: 80 loss: 8497.1142578125\n",
      "iter: 81 loss: 8477.5595703125\n",
      "iter: 82 loss: 8389.0029296875\n",
      "iter: 83 loss: 8420.9453125\n",
      "iter: 84 loss: 8468.4521484375\n",
      "iter: 85 loss: 8497.7353515625\n",
      "iter: 86 loss: 8444.529296875\n",
      "iter: 87 loss: 8544.2958984375\n",
      "iter: 88 loss: 8428.044921875\n",
      "iter: 89 loss: 8347.20703125\n",
      "iter: 90 loss: 8343.1259765625\n",
      "iter: 91 loss: 8487.5859375\n",
      "iter: 92 loss: 8311.6396484375\n",
      "iter: 93 loss: 8332.2080078125\n",
      "iter: 94 loss: 8463.4560546875\n",
      "iter: 95 loss: 8374.6533203125\n",
      "iter: 96 loss: 8452.1064453125\n",
      "iter: 97 loss: 8374.798828125\n",
      "iter: 98 loss: 8378.50390625\n",
      "iter: 99 loss: 8415.0302734375\n",
      "iter: 100 loss: 8331.0703125\n",
      "iter: 101 loss: 8319.3408203125\n",
      "iter: 102 loss: 8363.5400390625\n",
      "iter: 103 loss: 8343.125\n",
      "iter: 104 loss: 8444.21484375\n",
      "iter: 105 loss: 8338.71875\n",
      "iter: 106 loss: 8298.6435546875\n",
      "iter: 107 loss: 8298.3203125\n",
      "iter: 108 loss: 8413.578125\n",
      "iter: 109 loss: 8353.6328125\n",
      "iter: 110 loss: 8362.6474609375\n",
      "iter: 111 loss: 8327.111328125\n",
      "iter: 112 loss: 8442.615234375\n",
      "iter: 113 loss: 8335.0703125\n",
      "iter: 114 loss: 8363.484375\n",
      "iter: 115 loss: 8293.486328125\n",
      "iter: 116 loss: 8319.5439453125\n",
      "iter: 117 loss: 8281.8017578125\n",
      "iter: 118 loss: 8322.103515625\n",
      "iter: 119 loss: 8213.0859375\n",
      "iter: 120 loss: 8260.83203125\n",
      "iter: 121 loss: 8305.333984375\n",
      "iter: 122 loss: 8295.5654296875\n",
      "iter: 123 loss: 8182.58740234375\n",
      "iter: 124 loss: 8152.62548828125\n",
      "iter: 125 loss: 8342.0859375\n",
      "iter: 126 loss: 8185.5185546875\n",
      "iter: 127 loss: 8347.439453125\n",
      "iter: 128 loss: 8235.4326171875\n",
      "iter: 129 loss: 8252.6787109375\n",
      "iter: 130 loss: 8023.91455078125\n",
      "iter: 131 loss: 8315.9140625\n",
      "iter: 132 loss: 8211.1923828125\n",
      "iter: 133 loss: 8142.884765625\n",
      "iter: 134 loss: 8146.82861328125\n",
      "iter: 135 loss: 8077.31201171875\n",
      "iter: 136 loss: 7999.83935546875\n",
      "iter: 137 loss: 8139.861328125\n",
      "iter: 138 loss: 8159.86376953125\n",
      "iter: 139 loss: 8135.37890625\n",
      "iter: 140 loss: 8108.3837890625\n",
      "iter: 141 loss: 8065.03564453125\n",
      "iter: 142 loss: 8089.5986328125\n",
      "iter: 143 loss: 8203.0283203125\n",
      "iter: 144 loss: 7993.529296875\n",
      "iter: 145 loss: 7981.017578125\n",
      "iter: 146 loss: 7973.5693359375\n",
      "iter: 147 loss: 7974.06494140625\n",
      "iter: 148 loss: 7986.0732421875\n",
      "iter: 149 loss: 8013.80859375\n",
      "iter: 150 loss: 7938.25244140625\n",
      "iter: 151 loss: 8010.447265625\n",
      "iter: 152 loss: 7878.91552734375\n",
      "iter: 153 loss: 7920.4306640625\n",
      "iter: 154 loss: 7929.984375\n",
      "iter: 155 loss: 7855.455078125\n",
      "iter: 156 loss: 7785.9384765625\n",
      "iter: 157 loss: 7778.40771484375\n",
      "iter: 158 loss: 7743.8349609375\n",
      "iter: 159 loss: 7743.26171875\n",
      "iter: 160 loss: 7719.728515625\n",
      "iter: 161 loss: 7631.150390625\n",
      "iter: 162 loss: 7804.63134765625\n",
      "iter: 163 loss: 7621.6767578125\n",
      "iter: 164 loss: 7663.169921875\n",
      "iter: 165 loss: 7490.625\n",
      "iter: 166 loss: 7583.46337890625\n",
      "iter: 167 loss: 7536.5341796875\n",
      "iter: 168 loss: 7459.71044921875\n",
      "iter: 169 loss: 7559.890625\n",
      "iter: 170 loss: 7506.76904296875\n",
      "iter: 171 loss: 7483.205078125\n",
      "iter: 172 loss: 7361.22802734375\n",
      "iter: 173 loss: 7360.2451171875\n",
      "iter: 174 loss: 7328.3037109375\n",
      "iter: 175 loss: 7303.89013671875\n",
      "iter: 176 loss: 7216.37548828125\n",
      "iter: 177 loss: 7119.80908203125\n",
      "iter: 178 loss: 7214.74365234375\n",
      "iter: 179 loss: 7148.91552734375\n",
      "iter: 180 loss: 7095.14892578125\n",
      "iter: 181 loss: 7035.6533203125\n",
      "iter: 182 loss: 7066.10302734375\n",
      "iter: 183 loss: 7104.08984375\n",
      "iter: 184 loss: 7088.88134765625\n",
      "iter: 185 loss: 6999.865234375\n",
      "iter: 186 loss: 6891.58251953125\n",
      "iter: 187 loss: 6943.0537109375\n",
      "iter: 188 loss: 6965.5224609375\n",
      "iter: 189 loss: 6910.44873046875\n",
      "iter: 190 loss: 6876.46240234375\n",
      "iter: 191 loss: 6883.25732421875\n",
      "iter: 192 loss: 6871.2841796875\n",
      "iter: 193 loss: 6935.45361328125\n",
      "iter: 194 loss: 6871.91455078125\n",
      "iter: 195 loss: 6923.1669921875\n",
      "iter: 196 loss: 6968.58984375\n",
      "iter: 197 loss: 6983.4482421875\n",
      "iter: 198 loss: 6947.59814453125\n",
      "iter: 199 loss: 7000.806640625\n",
      "iter: 200 loss: 6972.36865234375\n",
      "usetime: 167.59935021400452\n"
     ]
    }
   ],
   "source": [
    "start = time.time()\n",
    "train(0, 200, pic, source, target)\n",
    "end = time.time()\n",
    "usetime = end - start\n",
    "print(f\"usetime: {usetime}\")"
   ],
   "metadata": {
    "collapsed": false,
    "pycharm": {
     "name": "#%%\n"
    }
   }
  },
  {
   "cell_type": "code",
   "execution_count": 13,
   "outputs": [
    {
     "name": "stderr",
     "output_type": "stream",
     "text": [
      "C:\\Users\\win10\\AppData\\Local\\Temp\\ipykernel_49160\\3219620664.py:3: DeprecationWarning: BICUBIC is deprecated and will be removed in Pillow 10 (2023-07-01). Use Resampling.BICUBIC instead.\n",
      "  pil = transforms.Resize(size=ori_size, interpolation=Image.BICUBIC)(pil)\n"
     ]
    }
   ],
   "source": [
    "neo_pic = model(pic)\n",
    "pil = topil(neo_pic.squeeze(0).cpu())\n",
    "pil = transforms.Resize(size=ori_size, interpolation=Image.BICUBIC)(pil)\n",
    "pil.save(path)"
   ],
   "metadata": {
    "collapsed": false,
    "pycharm": {
     "name": "#%%\n"
    }
   }
  },
  {
   "cell_type": "code",
   "execution_count": 14,
   "outputs": [],
   "source": [
    "patch_file.close()"
   ],
   "metadata": {
    "collapsed": false,
    "pycharm": {
     "name": "#%%\n"
    }
   }
  },
  {
   "cell_type": "code",
   "execution_count": 15,
   "outputs": [],
   "source": [
    "file_uu = open(\"neo_uu_trick.txt\", \"r\")\n",
    "read_loss_li = file_uu.readline()\n",
    "read_loss_li = [float(x) for x in read_loss_li.split()]\n",
    "if not read_loss_li:\n",
    "    read_loss_li = [0]*200\n",
    "\n",
    "cur_times = int(file_uu.readline())\n",
    "file_uu.close()"
   ],
   "metadata": {
    "collapsed": false,
    "pycharm": {
     "name": "#%%\n"
    }
   }
  },
  {
   "cell_type": "code",
   "execution_count": 16,
   "outputs": [
    {
     "data": {
      "text/plain": "[<matplotlib.lines.Line2D at 0x14e7f403850>]"
     },
     "execution_count": 16,
     "metadata": {},
     "output_type": "execute_result"
    },
    {
     "data": {
      "text/plain": "<Figure size 640x480 with 1 Axes>",
      "image/png": "[encoded data removed]"
     },
     "metadata": {},
     "output_type": "display_data"
    }
   ],
   "source": [
    "import matplotlib.pyplot as plt\n",
    "x = [i for i in range(200)]\n",
    "plt.plot(x,loss_li,color=\"red\",marker=\"o\")\n"
   ],
   "metadata": {
    "collapsed": false,
    "pycharm": {
     "name": "#%%\n"
    }
   }
  },
  {
   "cell_type": "code",
   "execution_count": 17,
   "outputs": [],
   "source": [
    "for i in range(200):\n",
    "    loss_li[i]+=read_loss_li[i]\n",
    "with open(file = \"neo_uu_trick.txt\", mode = \"w\") as file:\n",
    "    for i in loss_li:\n",
    "        file.write(str(i)+\" \")\n",
    "    file.write(\"\\n\")\n",
    "    file.write(str(cur_times+1))\n"
   ],
   "metadata": {
    "collapsed": false,
    "pycharm": {
     "name": "#%%\n"
    }
   }
  },
  {
   "cell_type": "code",
   "execution_count": 18,
   "outputs": [],
   "source": [
    "# x = [i for i in range(200)]\n",
    "# plt.plot(x,gli,color=\"red\",marker=\"o\")"
   ],
   "metadata": {
    "collapsed": false,
    "pycharm": {
     "name": "#%%\n"
    }
   }
  },
  {
   "cell_type": "code",
   "execution_count": 19,
   "outputs": [
    {
     "data": {
      "text/plain": "[<matplotlib.lines.Line2D at 0x14e9e92b730>]"
     },
     "execution_count": 19,
     "metadata": {},
     "output_type": "execute_result"
    },
    {
     "data": {
      "text/plain": "<Figure size 640x480 with 1 Axes>",
      "image/png": "[encoded data removed]"
     },
     "metadata": {},
     "output_type": "display_data"
    }
   ],
   "source": [
    "x = [i for i in range(200)]\n",
    "plt.plot(x,dli,color=\"red\",marker=\"o\")"
   ],
   "metadata": {
    "collapsed": false,
    "pycharm": {
     "name": "#%%\n"
    }
   }
  },
  {
   "cell_type": "code",
   "execution_count": 20,
   "outputs": [
    {
     "data": {
      "text/plain": "[<matplotlib.lines.Line2D at 0x14ea5a49d00>]"
     },
     "execution_count": 20,
     "metadata": {},
     "output_type": "execute_result"
    },
    {
     "data": {
      "text/plain": "<Figure size 640x480 with 1 Axes>",
      "image/png": "[encoded data removed]"
     },
     "metadata": {},
     "output_type": "display_data"
    }
   ],
   "source": [
    "x = [i for i in range(200)]\n",
    "plt.plot(x,nli,color=\"red\",marker=\"o\")"
   ],
   "metadata": {
    "collapsed": false,
    "pycharm": {
     "name": "#%%\n"
    }
   }
  },
  {
   "cell_type": "code",
   "execution_count": 21,
   "outputs": [
    {
     "data": {
      "text/plain": "[<matplotlib.lines.Line2D at 0x14eb16cfa90>]"
     },
     "execution_count": 21,
     "metadata": {},
     "output_type": "execute_result"
    },
    {
     "data": {
      "text/plain": "<Figure size 640x480 with 1 Axes>",
      "image/png": "[encoded data removed]"
     },
     "metadata": {},
     "output_type": "display_data"
    }
   ],
   "source": [
    "x = [i for i in range(200)]\n",
    "# li = [gli[i]+dli[i]+nli[i] for i in range(200)]\n",
    "li = [dli[i]+nli[i] for i in range(200)]\n",
    "plt.plot(x,li,color=\"red\",marker=\"o\")"
   ],
   "metadata": {
    "collapsed": false,
    "pycharm": {
     "name": "#%%\n"
    }
   }
  },
  {
   "cell_type": "code",
   "execution_count": 22,
   "outputs": [
    {
     "name": "stdout",
     "output_type": "stream",
     "text": [
      "0.50296875\n"
     ]
    },
    {
     "data": {
      "text/plain": "<Figure size 640x480 with 1 Axes>",
      "image/png": "[encoded data removed]"
     },
     "metadata": {},
     "output_type": "display_data"
    }
   ],
   "source": [
    "x = [i for i in range(200)]\n",
    "li = [x/64 for x in cliploss.right_patch]\n",
    "plt.plot(x,li,color=\"red\",marker=\"o\")\n",
    "print(sum(cliploss.right_patch)/12800)"
   ],
   "metadata": {
    "collapsed": false,
    "pycharm": {
     "name": "#%%\n"
    }
   }
  }
 ],
 "metadata": {
  "kernelspec": {
   "display_name": "Python 3",
   "language": "python",
   "name": "python3"
  },
  "language_info": {
   "codemirror_mode": {
    "name": "ipython",
    "version": 2
   },
   "file_extension": ".py",
   "mimetype": "text/x-python",
   "name": "python",
   "nbconvert_exporter": "python",
   "pygments_lexer": "ipython2",
   "version": "2.7.6"
  }
 },
 "nbformat": 4,
 "nbformat_minor": 0
}