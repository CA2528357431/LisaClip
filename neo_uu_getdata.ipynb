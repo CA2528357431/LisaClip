{
 "cells": [
  {
   "cell_type": "code",
   "execution_count": 1,
   "metadata": {
    "collapsed": true
   },
   "outputs": [],
   "source": [
    "import torch\n",
    "import torch.optim as optim\n",
    "import torchvision\n",
    "import torchvision.transforms as transforms\n",
    "from PIL import Image\n",
    "\n",
    "from network.mynetwork_uu import Unet\n",
    "from loss.loss import CLIPLoss\n",
    "from utils.func import get_features,vgg_normalize\n",
    "\n",
    "import time"
   ]
  },
  {
   "cell_type": "code",
   "execution_count": 2,
   "outputs": [
    {
     "name": "stdout",
     "output_type": "stream",
     "text": [
      "cuda\n",
      "True\n"
     ]
    }
   ],
   "source": [
    "device = \"cuda\" if torch.cuda.is_available() else \"cpu\"\n",
    "print(device)\n",
    "print(torch.cuda.is_available())"
   ],
   "metadata": {
    "collapsed": false,
    "pycharm": {
     "name": "#%%\n"
    }
   }
  },
  {
   "cell_type": "code",
   "execution_count": 3,
   "outputs": [],
   "source": [
    "model = Unet(device).to(device)\n",
    "# model = Unet().to(device)\n",
    "cliploss = CLIPLoss(device)\n",
    "mseloss = torch.nn.MSELoss()\n",
    "# vgg = torchvision.models.vgg19(pretrained=True).features.to(device)\n",
    "# for x in vgg.parameters():\n",
    "#     x.requires_grad = False\n",
    "\n",
    "topil = transforms.ToPILImage()\n",
    "topic = transforms.ToTensor()"
   ],
   "metadata": {
    "collapsed": false,
    "pycharm": {
     "name": "#%%\n"
    }
   }
  },
  {
   "cell_type": "code",
   "execution_count": 4,
   "outputs": [],
   "source": [
    "lr1 = 0.001\n",
    "lr2 = 0.0003\n",
    "\n",
    "# lr_fast = 0.0003\n",
    "# lr_slow = 0.0004\n",
    "\n",
    "dir_lambda = 500\n",
    "content_lambda = 150\n",
    "patch_lambda = 9000\n",
    "norm_lambda = 0.002\n",
    "gol_lambda = 300\n"
   ],
   "metadata": {
    "collapsed": false,
    "pycharm": {
     "name": "#%%\n"
    }
   }
  },
  {
   "cell_type": "code",
   "execution_count": 5,
   "outputs": [],
   "source": [
    "loss_li = [0]*100\n"
   ],
   "metadata": {
    "collapsed": false,
    "pycharm": {
     "name": "#%%\n"
    }
   }
  },
  {
   "cell_type": "code",
   "execution_count": 6,
   "outputs": [
    {
     "name": "stderr",
     "output_type": "stream",
     "text": [
      "C:\\Users\\win10\\AppData\\Local\\Temp\\ipykernel_31820\\2947674387.py:3: DeprecationWarning: BICUBIC is deprecated and will be removed in Pillow 10 (2023-07-01). Use Resampling.BICUBIC instead.\n",
      "  pil = transforms.Resize(size=(512, 512), interpolation=Image.BICUBIC)(pil)\n",
      "E:\\Anaconda\\envs\\sth\\lib\\site-packages\\torchvision\\transforms\\transforms.py:257: UserWarning: Argument interpolation should be of type InterpolationMode instead of int. Please, use InterpolationMode enum.\n",
      "  warnings.warn(\n"
     ]
    }
   ],
   "source": [
    "pil = Image.open(f\"./source_pic/car2.jpg\")\n",
    "ori_size = pil.size[::-1]\n",
    "pil = transforms.Resize(size=(512, 512), interpolation=Image.BICUBIC)(pil)\n",
    "pic = topic(pil).unsqueeze(0).to(device)\n",
    "# pic = torch.ones(1, 3, 512, 512).to(device)\n",
    "pic.requires_grad = False\n",
    "# pic[:,1,:,:] = 0"
   ],
   "metadata": {
    "collapsed": false,
    "pycharm": {
     "name": "#%%\n"
    }
   }
  },
  {
   "cell_type": "code",
   "execution_count": 7,
   "outputs": [],
   "source": [
    "# source = \"photo\"\n",
    "# source = \"cat\"\n",
    "# source = \"CG picture\"\n",
    "# source = \"happy\"\n",
    "# source = \"man\"\n",
    "# source = \"cartoon\"\n",
    "source = \"red car\"\n",
    "\n",
    "target = \"colorful car\"\n",
    "# target = \"Mark Elliot Zuckerberg\"\n",
    "# target = \"Mona Lisa by Leonardo da Vinci\"\n",
    "# target = \"angry\"\n",
    "# target = \"girl\"\n",
    "# target = \"Neon Light\"\n",
    "# target = \"black car\"\n",
    "# target = \"pop art\"\n",
    "# target = \"baby girl\"\n",
    "# target = \"Watercolor Art with Thick Brush\"\n",
    "# target = \"Pixar\"\n",
    "# target = \"watercolor painting with thick brush\"\n",
    "# target = \"starry night by Van Gogh\"\n",
    "# target = \"the scream by Edvard Munch\"\n",
    "# target = \"Monet\"\n",
    "# target = \"cyberpunk 2077\"\n",
    "# target = \"oil painting with thick brush\"\n",
    "# target = \"man with dark black skin and black hair\"\n",
    "# target = \"The great wave off kanagawa by Hokusai\"\n",
    "# target = \"mosaic\"\n",
    "# target = \"fire\"\n",
    "# target = \"Chinese Brush Painting of mountains in black and white\"\n",
    "# target = \"snowy\"\n",
    "# target = \"sketch with pencil\"\n",
    "# target = \"pop art of night city\"\n",
    "# target = \"cubism\"\n",
    "# target = \"Cartoon\"\n",
    "# target = \"anime\"\n",
    "# target = \"white marble carving\"\n",
    "# target = \"steampunk\"\n"
   ],
   "metadata": {
    "collapsed": false,
    "pycharm": {
     "name": "#%%\n"
    }
   }
  },
  {
   "cell_type": "code",
   "execution_count": 8,
   "outputs": [],
   "source": [
    "path = \"result/result02.jpg\""
   ],
   "metadata": {
    "collapsed": false,
    "pycharm": {
     "name": "#%%\n"
    }
   }
  },
  {
   "cell_type": "code",
   "execution_count": 9,
   "outputs": [],
   "source": [
    "dli = []\n",
    "nli = []"
   ],
   "metadata": {
    "collapsed": false,
    "pycharm": {
     "name": "#%%\n"
    }
   }
  },
  {
   "cell_type": "code",
   "execution_count": 10,
   "outputs": [],
   "source": [
    "patch_file = open(f\"./data/nums.txt\", mode=\"w\")"
   ],
   "metadata": {
    "collapsed": false,
    "pycharm": {
     "name": "#%%\n"
    }
   }
  },
  {
   "cell_type": "code",
   "execution_count": 11,
   "outputs": [],
   "source": [
    "def train(iteration1, iteration2, pic, source, target):\n",
    "\n",
    "\n",
    "    input = pic\n",
    "\n",
    "    # pic_f = get_features(vgg_normalize(pic), vgg)\n",
    "    # print(model.parameters())\n",
    "    opt = optim.Adam(model.parameters(), lr=lr1)\n",
    "    for i in range(iteration1):\n",
    "        opt.zero_grad()\n",
    "        neo_pic = model(input)\n",
    "        loss = mseloss(pic, neo_pic) * 1\n",
    "\n",
    "        # loss = 0\n",
    "        # neo_pic_f = get_features(vgg_normalize(neo_pic), vgg)\n",
    "        # loss += torch.mean((pic_f['conv4_2'] - neo_pic_f['conv4_2']) ** 2)\n",
    "        # loss += torch.mean((pic_f['conv5_2'] - neo_pic_f['conv5_2']) ** 2)\n",
    "\n",
    "        loss.backward()\n",
    "        opt.step()\n",
    "\n",
    "        with torch.no_grad():\n",
    "            print(\"iter:\", i + 1, \"loss:\", loss.item())\n",
    "\n",
    "        # pil = topil(neo_pic.squeeze(0).cpu())\n",
    "        # if ((i + 1) % 50) == 0:\n",
    "        #     pil.save(f\"./pic1/{(i + 1) // 50}.jpg\")\n",
    "    with torch.no_grad():\n",
    "        neo_pic = model(input)\n",
    "        pil = topil(neo_pic.squeeze(0).cpu())\n",
    "        pil = transforms.Resize(size=ori_size, interpolation=Image.BICUBIC)(pil)\n",
    "        pil.save(f\"mid.jpg\")\n",
    "\n",
    "\n",
    "    # torch.save(model,'unet.pth')\n",
    "\n",
    "    # model = torch.load('unet.pth')\n",
    "\n",
    "    # pic_f = get_features(vgg_normalize(pic),vgg)\n",
    "\n",
    "    opt = optim.Adam(model.parameters(), lr=lr2)\n",
    "    # opt_fast = optim.Adam(model.parameters(), lr=lr_fast)\n",
    "    # opt_slow = optim.Adam(model.parameters(), lr=lr_slow)\n",
    "    # opt_loss = optim.Adam(cliploss.parameters(), lr=lr_slow)\n",
    "\n",
    "    for i in range(iteration2):\n",
    "\n",
    "\n",
    "        opt.zero_grad()\n",
    "        # opt_slow.zero_grad()\n",
    "        # opt_fast.zero_grad()\n",
    "\n",
    "        neo_pic = model(input)\n",
    "\n",
    "        dir_loss = 0\n",
    "        dir_loss += cliploss.forward_dir(pic, source, neo_pic, target)\n",
    "\n",
    "        gol_loss = 0\n",
    "        # gol_loss += cliploss.forward_gol(pic, source, neo_pic, target)\n",
    "\n",
    "        content_loss = 0\n",
    "        # content_loss += mseloss(pic, neo_pic)\n",
    "        # neo_pic_f = get_features(vgg_normalize(neo_pic), vgg)\n",
    "        # content_loss += torch.mean((pic_f['conv4_2'] - neo_pic_f['conv4_2']) ** 2)\n",
    "        # content_loss += torch.mean((pic_f['conv5_2'] - neo_pic_f['conv5_2']) ** 2)\n",
    "\n",
    "        patch_loss = 0\n",
    "        # patch_loss += cliploss.forward_patch(pic, source, neo_pic, target)\n",
    "\n",
    "        norm_loss = 0\n",
    "        norm_loss += cliploss.forward_prior(pic, source, neo_pic, target)\n",
    "\n",
    "        loss = dir_loss * dir_lambda + \\\n",
    "               content_loss * content_lambda + \\\n",
    "               patch_loss * patch_lambda + \\\n",
    "               norm_loss * norm_lambda + \\\n",
    "               gol_loss * gol_lambda\n",
    "\n",
    "\n",
    "        patch_loss_fast,patch_loss_slow, li = cliploss.forward_patch_sec(pic, source, neo_pic, target)\n",
    "        patch_loss_fast *= patch_lambda\n",
    "        patch_loss_slow *= patch_lambda\n",
    "\n",
    "        for x in model.res2.parameters():\n",
    "            x.requires_grad = False\n",
    "        patch_loss_slow.backward(retain_graph=True)\n",
    "        for x in model.res2.parameters():\n",
    "            x.requires_grad = True\n",
    "\n",
    "        for x in model.res.parameters():\n",
    "            x.requires_grad = False\n",
    "        for x in model.conv3.parameters():\n",
    "            x.requires_grad = False\n",
    "        for x in model.upsample3.parameters():\n",
    "            x.requires_grad = False\n",
    "        for x in model.deconv3.parameters():\n",
    "            x.requires_grad = False\n",
    "        patch_loss_fast.backward(retain_graph=True)\n",
    "        for x in model.res.parameters():\n",
    "            x.requires_grad = True\n",
    "        for x in model.conv3.parameters():\n",
    "            x.requires_grad = True\n",
    "        for x in model.upsample3.parameters():\n",
    "            x.requires_grad = True\n",
    "        for x in model.deconv3.parameters():\n",
    "            x.requires_grad = True\n",
    "\n",
    "        loss.backward()\n",
    "        # (loss+patch_loss_fast+patch_loss_slow).backward()\n",
    "\n",
    "\n",
    "        opt.step()\n",
    "\n",
    "        # opt_fast.step()\n",
    "        # opt_slow.step()\n",
    "\n",
    "        with torch.no_grad():\n",
    "            # loss_li[i]+=(loss+patch_loss_fast+patch_loss_slow).item()\n",
    "            # print(\"iter:\", i + 1, \"fast_loss:\", patch_loss_fast.item(), \"slow_loss:\", patch_loss_slow.item())\n",
    "            # print(\"iter:\", i + 1, \"loss:\", (loss+patch_loss_fast+patch_loss_slow).item())\n",
    "\n",
    "            patch_loss += cliploss.forward_patch(pic, source, neo_pic, target)*patch_lambda\n",
    "            loss_li[i] += (loss+patch_loss).item()\n",
    "            print(\"iter:\", i + 1, \"loss:\", (loss+patch_loss).item())\n",
    "\n",
    "\n",
    "            for x in li:\n",
    "                patch_file.write(str(x)+\" \")\n",
    "\n",
    "            patch_file.write(\"\\n\")\n",
    "\n",
    "            if (i+1)%10==0  or i==0:\n",
    "                neo_pic = model(input)\n",
    "                pil = topil(neo_pic.squeeze(0).cpu())\n",
    "                pil = transforms.Resize(size=ori_size, interpolation=Image.BICUBIC)(pil)\n",
    "                pil.save(f\"mid/{i//10}.jpg\")\n",
    "\n",
    "            # gli.append(gol_loss.item()*gol_lambda)\n",
    "            dli.append(dir_loss.item()*dir_lambda)\n",
    "            nli.append(norm_loss.item()*norm_lambda)\n",
    "\n",
    "            # if (i+1)%4==0 and cliploss.patch_size>=64:\n",
    "            #     cliploss.patch_size-=8\n",
    "\n",
    "\n",
    "\n",
    "        # pil = topil(neo_pic.squeeze(0).cpu())\n",
    "        # if ((i + 1) % 10) == 0:\n",
    "        #     pil.save(f\"./pic2/{(i + 1) // 10}.jpg\")\n",
    "\n",
    "    # return  model(input)\n",
    "    # neo_pic = model(input)\n",
    "    # pil = topil(neo_pic.squeeze(0).cpu())\n",
    "    # # pil.save(f\"{source}-{target}.jpg\")\n",
    "    # pil.save(path)\n",
    "\n",
    "\n",
    "\n"
   ],
   "metadata": {
    "collapsed": false,
    "pycharm": {
     "name": "#%%\n"
    }
   }
  },
  {
   "cell_type": "code",
   "execution_count": 12,
   "outputs": [
    {
     "name": "stdout",
     "output_type": "stream",
     "text": [
      "iter: 1 loss: 0.09301593154668808\n",
      "iter: 2 loss: 0.04560841619968414\n",
      "iter: 3 loss: 0.02990550547838211\n",
      "iter: 4 loss: 0.022400137037038803\n",
      "iter: 5 loss: 0.017055151984095573\n",
      "iter: 6 loss: 0.013277769088745117\n",
      "iter: 7 loss: 0.010221180506050587\n",
      "iter: 8 loss: 0.007669358514249325\n",
      "iter: 9 loss: 0.0057206545025110245\n",
      "iter: 10 loss: 0.0043249125592410564\n",
      "iter: 11 loss: 0.0033384000416845083\n",
      "iter: 12 loss: 0.0026613418012857437\n",
      "iter: 13 loss: 0.002234203740954399\n",
      "iter: 14 loss: 0.001992213074117899\n",
      "iter: 15 loss: 0.001863967627286911\n",
      "iter: 16 loss: 0.0017998970579355955\n",
      "iter: 17 loss: 0.0017736278241500258\n",
      "iter: 18 loss: 0.0017676043789833784\n",
      "iter: 19 loss: 0.0017651801463216543\n",
      "iter: 20 loss: 0.001751640229485929\n",
      "iter: 21 loss: 0.0017137713730335236\n",
      "iter: 22 loss: 0.0016519402852281928\n",
      "iter: 23 loss: 0.001576424459926784\n",
      "iter: 24 loss: 0.0014891698956489563\n",
      "iter: 25 loss: 0.0013870848342776299\n",
      "iter: 26 loss: 0.001280509284697473\n",
      "iter: 27 loss: 0.0011848262511193752\n",
      "iter: 28 loss: 0.001100772526115179\n",
      "iter: 29 loss: 0.0010327239288017154\n",
      "iter: 30 loss: 0.0009782337583601475\n",
      "iter: 31 loss: 0.0009315551142208278\n",
      "iter: 32 loss: 0.0008934044162742794\n",
      "iter: 33 loss: 0.0008647129288874567\n",
      "iter: 34 loss: 0.0008429264416918159\n",
      "iter: 35 loss: 0.0008233545231632888\n",
      "iter: 36 loss: 0.0008025413262657821\n",
      "iter: 37 loss: 0.0007799032609909773\n",
      "iter: 38 loss: 0.0007569558219984174\n",
      "iter: 39 loss: 0.0007349114748649299\n",
      "iter: 40 loss: 0.0007136925123631954\n",
      "iter: 41 loss: 0.0006937375292181969\n",
      "iter: 42 loss: 0.0006760233081877232\n",
      "iter: 43 loss: 0.0006599814514629543\n",
      "iter: 44 loss: 0.0006440458819270134\n",
      "iter: 45 loss: 0.0006278760847635567\n",
      "iter: 46 loss: 0.0006130461115390062\n",
      "iter: 47 loss: 0.0006004151655361056\n",
      "iter: 48 loss: 0.0005887126317247748\n",
      "iter: 49 loss: 0.0005767675465904176\n",
      "iter: 50 loss: 0.0005652638501487672\n",
      "iter: 51 loss: 0.0005551945650950074\n",
      "iter: 52 loss: 0.0005459952517412603\n",
      "iter: 53 loss: 0.0005367610137909651\n",
      "iter: 54 loss: 0.0005271127447485924\n",
      "iter: 55 loss: 0.0005174303660169244\n",
      "iter: 56 loss: 0.000508286349941045\n",
      "iter: 57 loss: 0.0004995855269953609\n",
      "iter: 58 loss: 0.0004908841801807284\n",
      "iter: 59 loss: 0.0004823199415113777\n",
      "iter: 60 loss: 0.0004743094905279577\n",
      "iter: 61 loss: 0.0004667502362281084\n",
      "iter: 62 loss: 0.0004591773613356054\n",
      "iter: 63 loss: 0.0004515059699770063\n",
      "iter: 64 loss: 0.00044389383401721716\n",
      "iter: 65 loss: 0.000436407484812662\n",
      "iter: 66 loss: 0.00042916680104099214\n",
      "iter: 67 loss: 0.000422416691435501\n",
      "iter: 68 loss: 0.0004160981043241918\n",
      "iter: 69 loss: 0.0004100496880710125\n",
      "iter: 70 loss: 0.000404164515202865\n",
      "iter: 71 loss: 0.0003983178175985813\n",
      "iter: 72 loss: 0.00039265709347091615\n",
      "iter: 73 loss: 0.00038729276275262237\n",
      "iter: 74 loss: 0.0003821107093244791\n",
      "iter: 75 loss: 0.00037702638655900955\n",
      "iter: 76 loss: 0.00037199188955128193\n",
      "iter: 77 loss: 0.0003669853031169623\n",
      "iter: 78 loss: 0.00036203645868226886\n",
      "iter: 79 loss: 0.0003571739362087101\n",
      "iter: 80 loss: 0.000352435396052897\n",
      "iter: 81 loss: 0.00034784642048180103\n",
      "iter: 82 loss: 0.00034335721284151077\n",
      "iter: 83 loss: 0.0003389554040040821\n",
      "iter: 84 loss: 0.00033467001048848033\n",
      "iter: 85 loss: 0.0003304346464574337\n",
      "iter: 86 loss: 0.0003262427053414285\n",
      "iter: 87 loss: 0.00032214063685387373\n",
      "iter: 88 loss: 0.0003181463689543307\n",
      "iter: 89 loss: 0.00031426461646333337\n",
      "iter: 90 loss: 0.00031045672949403524\n",
      "iter: 91 loss: 0.0003066936624236405\n",
      "iter: 92 loss: 0.0003029863000847399\n",
      "iter: 93 loss: 0.00029936741339042783\n",
      "iter: 94 loss: 0.00029586287564598024\n",
      "iter: 95 loss: 0.0002924061263911426\n",
      "iter: 96 loss: 0.00028902635676786304\n",
      "iter: 97 loss: 0.00028575523174367845\n",
      "iter: 98 loss: 0.0002825470583047718\n",
      "iter: 99 loss: 0.0002793949097394943\n",
      "iter: 100 loss: 0.00027630789554677904\n",
      "iter: 1 loss: 9471.0712890625\n",
      "iter: 2 loss: 8919.5771484375\n",
      "iter: 3 loss: 8710.8232421875\n",
      "iter: 4 loss: 8546.5693359375\n",
      "iter: 5 loss: 8471.8203125\n",
      "iter: 6 loss: 8046.32470703125\n",
      "iter: 7 loss: 7962.82763671875\n",
      "iter: 8 loss: 7830.07861328125\n",
      "iter: 9 loss: 7839.8291015625\n",
      "iter: 10 loss: 7322.8291015625\n",
      "iter: 11 loss: 7201.330078125\n",
      "iter: 12 loss: 7448.83203125\n",
      "iter: 13 loss: 7165.3349609375\n",
      "iter: 14 loss: 7309.58935546875\n",
      "iter: 15 loss: 7139.34375\n",
      "iter: 16 loss: 7101.2216796875\n",
      "iter: 17 loss: 6885.97314453125\n",
      "iter: 18 loss: 7042.7236328125\n",
      "iter: 19 loss: 7143.22412109375\n",
      "iter: 20 loss: 6770.724609375\n",
      "iter: 21 loss: 6905.10009765625\n",
      "iter: 22 loss: 6889.849609375\n",
      "iter: 23 loss: 6903.84912109375\n",
      "iter: 24 loss: 6616.47314453125\n",
      "iter: 25 loss: 6856.2216796875\n",
      "iter: 26 loss: 6889.095703125\n",
      "iter: 27 loss: 6754.59716796875\n",
      "iter: 28 loss: 6738.099609375\n",
      "iter: 29 loss: 6809.10107421875\n",
      "iter: 30 loss: 6830.85107421875\n",
      "iter: 31 loss: 6585.6005859375\n",
      "iter: 32 loss: 6993.9755859375\n",
      "iter: 33 loss: 6482.4755859375\n",
      "iter: 34 loss: 6359.8525390625\n",
      "iter: 35 loss: 6702.35400390625\n",
      "iter: 36 loss: 6760.60498046875\n",
      "iter: 37 loss: 7261.9794921875\n",
      "iter: 38 loss: 6858.98095703125\n",
      "iter: 39 loss: 6731.6123046875\n",
      "iter: 40 loss: 6622.8681640625\n",
      "iter: 41 loss: 6458.123046875\n",
      "iter: 42 loss: 6738.62646484375\n",
      "iter: 43 loss: 6562.12890625\n",
      "iter: 44 loss: 6611.38427734375\n",
      "iter: 45 loss: 6729.8896484375\n",
      "iter: 46 loss: 6602.76708984375\n",
      "iter: 47 loss: 6507.6416015625\n",
      "iter: 48 loss: 6412.51708984375\n",
      "iter: 49 loss: 6570.51806640625\n",
      "iter: 50 loss: 6115.26904296875\n",
      "iter: 51 loss: 6748.51806640625\n",
      "iter: 52 loss: 6149.8916015625\n",
      "iter: 53 loss: 6233.26611328125\n",
      "iter: 54 loss: 6224.01416015625\n",
      "iter: 55 loss: 6431.513671875\n",
      "iter: 56 loss: 6568.5146484375\n",
      "iter: 57 loss: 6716.26806640625\n",
      "iter: 58 loss: 6503.52099609375\n",
      "iter: 59 loss: 6547.02294921875\n",
      "iter: 60 loss: 6428.77099609375\n",
      "iter: 61 loss: 6346.39013671875\n",
      "iter: 62 loss: 6245.13671875\n",
      "iter: 63 loss: 6639.638671875\n",
      "iter: 64 loss: 6363.89013671875\n",
      "iter: 65 loss: 6088.3896484375\n",
      "iter: 66 loss: 6640.138671875\n",
      "iter: 67 loss: 6594.888671875\n",
      "iter: 68 loss: 6501.765625\n",
      "iter: 69 loss: 6640.017578125\n",
      "iter: 70 loss: 6224.26806640625\n",
      "iter: 71 loss: 6355.64404296875\n",
      "iter: 72 loss: 6133.64404296875\n",
      "iter: 73 loss: 6190.39404296875\n",
      "iter: 74 loss: 6326.64453125\n",
      "iter: 75 loss: 6265.89599609375\n",
      "iter: 76 loss: 6433.14794921875\n",
      "iter: 77 loss: 6474.14892578125\n",
      "iter: 78 loss: 6228.90185546875\n",
      "iter: 79 loss: 6398.77880859375\n",
      "iter: 80 loss: 6202.2783203125\n",
      "iter: 81 loss: 6375.15234375\n",
      "iter: 82 loss: 5919.40087890625\n",
      "iter: 83 loss: 6439.39990234375\n",
      "iter: 84 loss: 6189.14990234375\n",
      "iter: 85 loss: 5970.4013671875\n",
      "iter: 86 loss: 5914.6513671875\n",
      "iter: 87 loss: 6199.4013671875\n",
      "iter: 88 loss: 5775.15283203125\n",
      "iter: 89 loss: 5942.15771484375\n",
      "iter: 90 loss: 6650.16162109375\n",
      "iter: 91 loss: 6072.91357421875\n",
      "iter: 92 loss: 6344.66455078125\n",
      "iter: 93 loss: 6166.66455078125\n",
      "iter: 94 loss: 6194.5390625\n",
      "iter: 95 loss: 5778.03662109375\n",
      "iter: 96 loss: 5894.2822265625\n",
      "iter: 97 loss: 6244.0283203125\n",
      "iter: 98 loss: 6924.5263671875\n",
      "iter: 99 loss: 6308.77392578125\n",
      "iter: 100 loss: 5701.3984375\n",
      "usetime: 106.91824126243591\n"
     ]
    },
    {
     "name": "stderr",
     "output_type": "stream",
     "text": [
      "C:\\Users\\win10\\AppData\\Local\\Temp\\ipykernel_31820\\1332957929.py:31: DeprecationWarning: BICUBIC is deprecated and will be removed in Pillow 10 (2023-07-01). Use Resampling.BICUBIC instead.\n",
      "  pil = transforms.Resize(size=ori_size, interpolation=Image.BICUBIC)(pil)\n",
      "C:\\Users\\win10\\AppData\\Local\\Temp\\ipykernel_31820\\1332957929.py:135: DeprecationWarning: BICUBIC is deprecated and will be removed in Pillow 10 (2023-07-01). Use Resampling.BICUBIC instead.\n",
      "  pil = transforms.Resize(size=ori_size, interpolation=Image.BICUBIC)(pil)\n"
     ]
    }
   ],
   "source": [
    "start = time.time()\n",
    "train(100, 100, pic, source, target)\n",
    "end = time.time()\n",
    "usetime = end - start\n",
    "print(f\"usetime: {usetime}\")"
   ],
   "metadata": {
    "collapsed": false,
    "pycharm": {
     "name": "#%%\n"
    }
   }
  },
  {
   "cell_type": "code",
   "execution_count": 13,
   "outputs": [
    {
     "name": "stderr",
     "output_type": "stream",
     "text": [
      "C:\\Users\\win10\\AppData\\Local\\Temp\\ipykernel_31820\\3219620664.py:3: DeprecationWarning: BICUBIC is deprecated and will be removed in Pillow 10 (2023-07-01). Use Resampling.BICUBIC instead.\n",
      "  pil = transforms.Resize(size=ori_size, interpolation=Image.BICUBIC)(pil)\n"
     ]
    }
   ],
   "source": [
    "neo_pic = model(pic)\n",
    "pil = topil(neo_pic.squeeze(0).cpu())\n",
    "pil = transforms.Resize(size=ori_size, interpolation=Image.BICUBIC)(pil)\n",
    "pil.save(path)"
   ],
   "metadata": {
    "collapsed": false,
    "pycharm": {
     "name": "#%%\n"
    }
   }
  },
  {
   "cell_type": "code",
   "execution_count": 14,
   "outputs": [],
   "source": [
    "patch_file.close()"
   ],
   "metadata": {
    "collapsed": false,
    "pycharm": {
     "name": "#%%\n"
    }
   }
  },
  {
   "cell_type": "code",
   "execution_count": 15,
   "outputs": [],
   "source": [
    "file_uu = open(\"neo_uu.txt\", \"r\")\n",
    "read_loss_li = file_uu.readline()\n",
    "read_loss_li = [float(x) for x in read_loss_li.split()]\n",
    "if not read_loss_li:\n",
    "    read_loss_li = [0]*200\n",
    "\n",
    "cur_times = int(file_uu.readline())\n",
    "file_uu.close()"
   ],
   "metadata": {
    "collapsed": false,
    "pycharm": {
     "name": "#%%\n"
    }
   }
  },
  {
   "cell_type": "code",
   "execution_count": 16,
   "outputs": [
    {
     "data": {
      "text/plain": "[<matplotlib.lines.Line2D at 0x144e962d040>]"
     },
     "execution_count": 16,
     "metadata": {},
     "output_type": "execute_result"
    },
    {
     "data": {
      "text/plain": "<Figure size 640x480 with 1 Axes>",
      "image/png": "[encoded data removed]"
     },
     "metadata": {},
     "output_type": "display_data"
    }
   ],
   "source": [
    "import matplotlib.pyplot as plt\n",
    "x = [i for i in range(100)]\n",
    "plt.plot(x,loss_li,color=\"red\",marker=\"o\")\n"
   ],
   "metadata": {
    "collapsed": false,
    "pycharm": {
     "name": "#%%\n"
    }
   }
  },
  {
   "cell_type": "code",
   "execution_count": 17,
   "outputs": [],
   "source": [
    "for i in range(100):\n",
    "    loss_li[i]+=read_loss_li[i]\n",
    "with open(file = \"neo_uu.txt\", mode = \"w\") as file:\n",
    "    for i in loss_li:\n",
    "        file.write(str(i)+\" \")\n",
    "    file.write(\"\\n\")\n",
    "    file.write(str(cur_times+1))\n"
   ],
   "metadata": {
    "collapsed": false,
    "pycharm": {
     "name": "#%%\n"
    }
   }
  },
  {
   "cell_type": "code",
   "execution_count": 18,
   "outputs": [],
   "source": [
    "# x = [i for i in range(100)]\n",
    "# plt.plot(x,gli,color=\"red\",marker=\"o\")"
   ],
   "metadata": {
    "collapsed": false,
    "pycharm": {
     "name": "#%%\n"
    }
   }
  },
  {
   "cell_type": "code",
   "execution_count": 19,
   "outputs": [
    {
     "data": {
      "text/plain": "[<matplotlib.lines.Line2D at 0x144ea7ffe50>]"
     },
     "execution_count": 19,
     "metadata": {},
     "output_type": "execute_result"
    },
    {
     "data": {
      "text/plain": "<Figure size 640x480 with 1 Axes>",
      "image/png": "[encoded data removed]"
     },
     "metadata": {},
     "output_type": "display_data"
    }
   ],
   "source": [
    "x = [i for i in range(100)]\n",
    "plt.plot(x,dli,color=\"red\",marker=\"o\")"
   ],
   "metadata": {
    "collapsed": false,
    "pycharm": {
     "name": "#%%\n"
    }
   }
  },
  {
   "cell_type": "code",
   "execution_count": 20,
   "outputs": [
    {
     "data": {
      "text/plain": "[<matplotlib.lines.Line2D at 0x144ed30edf0>]"
     },
     "execution_count": 20,
     "metadata": {},
     "output_type": "execute_result"
    },
    {
     "data": {
      "text/plain": "<Figure size 640x480 with 1 Axes>",
      "image/png": "[encoded data removed]"
     },
     "metadata": {},
     "output_type": "display_data"
    }
   ],
   "source": [
    "x = [i for i in range(100)]\n",
    "plt.plot(x,nli,color=\"red\",marker=\"o\")"
   ],
   "metadata": {
    "collapsed": false,
    "pycharm": {
     "name": "#%%\n"
    }
   }
  },
  {
   "cell_type": "code",
   "execution_count": 21,
   "outputs": [
    {
     "data": {
      "text/plain": "[<matplotlib.lines.Line2D at 0x144f0cf0dc0>]"
     },
     "execution_count": 21,
     "metadata": {},
     "output_type": "execute_result"
    },
    {
     "data": {
      "text/plain": "<Figure size 640x480 with 1 Axes>",
      "image/png": "[encoded data removed]"
     },
     "metadata": {},
     "output_type": "display_data"
    }
   ],
   "source": [
    "x = [i for i in range(100)]\n",
    "# li = [gli[i]+dli[i]+nli[i] for i in range(100)]\n",
    "li = [dli[i]+nli[i] for i in range(100)]\n",
    "plt.plot(x,li,color=\"red\",marker=\"o\")"
   ],
   "metadata": {
    "collapsed": false,
    "pycharm": {
     "name": "#%%\n"
    }
   }
  },
  {
   "cell_type": "code",
   "execution_count": 22,
   "outputs": [
    {
     "name": "stdout",
     "output_type": "stream",
     "text": [
      "0.5090625\n"
     ]
    },
    {
     "data": {
      "text/plain": "<Figure size 640x480 with 1 Axes>",
      "image/png": "[encoded data removed]"
     },
     "metadata": {},
     "output_type": "display_data"
    }
   ],
   "source": [
    "x = [i for i in range(100)]\n",
    "li = [x/64 for x in cliploss.right_patch]\n",
    "plt.plot(x,li,color=\"red\",marker=\"o\")\n",
    "print(sum(cliploss.right_patch)/6400)"
   ],
   "metadata": {
    "collapsed": false,
    "pycharm": {
     "name": "#%%\n"
    }
   }
  }
 ],
 "metadata": {
  "kernelspec": {
   "display_name": "Python 3",
   "language": "python",
   "name": "python3"
  },
  "language_info": {
   "codemirror_mode": {
    "name": "ipython",
    "version": 2
   },
   "file_extension": ".py",
   "mimetype": "text/x-python",
   "name": "python",
   "nbconvert_exporter": "python",
   "pygments_lexer": "ipython2",
   "version": "2.7.6"
  }
 },
 "nbformat": 4,
 "nbformat_minor": 0
}