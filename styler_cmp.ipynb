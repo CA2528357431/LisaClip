{
 "cells": [
  {
   "cell_type": "code",
   "execution_count": 1,
   "metadata": {
    "collapsed": true
   },
   "outputs": [],
   "source": [
    "import torch\n",
    "import torch.optim as optim\n",
    "import torchvision\n",
    "import torchvision.transforms as transforms\n",
    "from PIL import Image\n",
    "\n",
    "from network.styler import Unet\n",
    "from loss.loss import CLIPLoss\n",
    "from utils.func import get_features,vgg_normalize\n",
    "\n",
    "import time"
   ]
  },
  {
   "cell_type": "code",
   "execution_count": 2,
   "outputs": [],
   "source": [
    "device = \"cuda\" if torch.cuda.is_available() else \"cpu\"\n",
    "\n",
    "lr1 = 0.0001\n",
    "lr2 = 0.0005\n",
    "# model = Unet(device)\n",
    "model = Unet().to(device)\n",
    "cliploss = CLIPLoss(device)\n",
    "# mseloss = torch.nn.MSELoss()\n",
    "vgg = torchvision.models.vgg19(pretrained=True).features.to(device)\n",
    "for x in vgg.parameters():\n",
    "    x.requires_grad = False\n",
    "\n",
    "\n",
    "topil = transforms.ToPILImage()\n",
    "topic = transforms.ToTensor()\n",
    "\n",
    "dir_lambda = 500\n",
    "content_lambda = 150\n",
    "patch_lambda = 9000\n",
    "norm_lambda = 0.002\n",
    "gol_lambda = 300"
   ],
   "metadata": {
    "collapsed": false,
    "pycharm": {
     "name": "#%%\n"
    }
   }
  },
  {
   "cell_type": "code",
   "execution_count": 3,
   "outputs": [],
   "source": [
    "file_cmp_outer = open(\"styler.txt\", \"r\")\n",
    "loss_li = file_cmp_outer.readline()\n",
    "loss_li = [float(x) for x in loss_li.split()]\n",
    "if not loss_li:\n",
    "    loss_li = [0]*200\n",
    "\n",
    "cur_times = int(file_cmp_outer.readline())"
   ],
   "metadata": {
    "collapsed": false,
    "pycharm": {
     "name": "#%%\n"
    }
   }
  },
  {
   "cell_type": "code",
   "execution_count": 4,
   "outputs": [],
   "source": [
    "def train(iteration1, iteration2, pic, source, target, path):\n",
    "    input = pic\n",
    "\n",
    "    # opt = optim.Adam(model.parameters(), lr=lr1)\n",
    "    # for i in range(iteration1):\n",
    "    #     opt.zero_grad()\n",
    "    #     neo_pic = model(input)\n",
    "    #     loss = mseloss(pic, neo_pic) * 1\n",
    "    #     loss.backward()\n",
    "    #     opt.step()\n",
    "    #     pil = topil(neo_pic.squeeze(0).cpu())\n",
    "    #     print(\"iter:\", i + 1, \"loss:\", loss.item())\n",
    "    #     if ((i + 1) % 50) == 0:\n",
    "    #         pil.save(f\"./pic1/{(i + 1) // 50}.jpg\")\n",
    "    #\n",
    "    #\n",
    "    # torch.save(model,'unet.pth')\n",
    "\n",
    "\n",
    "    # model = torch.load('unet.pth')\n",
    "\n",
    "    pic_f = get_features(vgg_normalize(pic),vgg)\n",
    "\n",
    "    opt = optim.Adam(model.parameters(), lr=lr2)\n",
    "    sch = torch.optim.lr_scheduler.StepLR(opt, step_size=100, gamma=0.5)\n",
    "    for i in range(iteration2):\n",
    "\n",
    "\n",
    "        opt.zero_grad()\n",
    "        neo_pic = model(input)\n",
    "\n",
    "        dir_loss = 0\n",
    "        dir_loss += cliploss.forward_dir(pic, source, neo_pic, target)\n",
    "\n",
    "        gol_loss = 0\n",
    "        # gol_loss += cliploss.forward_gol(pic, source, neo_pic, target)\n",
    "\n",
    "        content_loss = 0\n",
    "        neo_pic_f = get_features(vgg_normalize(neo_pic), vgg)\n",
    "        content_loss += torch.mean((pic_f['conv4_2'] - neo_pic_f['conv4_2']) ** 2)\n",
    "        content_loss += torch.mean((pic_f['conv5_2'] - neo_pic_f['conv5_2']) ** 2)\n",
    "\n",
    "        patch_loss = 0\n",
    "        patch_loss += cliploss.forward_patch(pic, source, neo_pic, target)\n",
    "\n",
    "        norm_loss = 0\n",
    "        norm_loss += cliploss.forward_prior(pic, source, neo_pic, target)\n",
    "\n",
    "        loss = dir_loss * dir_lambda + \\\n",
    "               content_loss * content_lambda + \\\n",
    "               patch_loss * patch_lambda + \\\n",
    "               norm_loss * norm_lambda + \\\n",
    "               gol_loss * gol_lambda\n",
    "\n",
    "        loss.backward()\n",
    "        opt.step()\n",
    "        sch.step()\n",
    "\n",
    "        loss_li[i]+=(loss.item())\n",
    "\n",
    "        print(\"iter:\", i + 1, \"loss:\", loss.item())\n",
    "        with torch.no_grad():\n",
    "            neo_pic = model(input)\n",
    "            pil = topil(neo_pic.squeeze(0).cpu())\n",
    "            pil = transforms.Resize(size=ori_size, interpolation=Image.BICUBIC)(pil)\n",
    "            pil.save(f\"mid.jpg\")\n",
    "\n",
    "        # pil = topil(neo_pic.squeeze(0).cpu())\n",
    "        # if ((i + 1) % 10) == 0:\n",
    "        #     pil.save(f\"./pic2/{(i + 1) // 10}.jpg\")\n",
    "\n",
    "    # neo_pic = model(input)\n",
    "    # pil = topil(neo_pic.squeeze(0).cpu())\n",
    "    # # pil.save(f\"{source}-{target}.jpg\")\n",
    "    # pil.save(path)"
   ],
   "metadata": {
    "collapsed": false,
    "pycharm": {
     "name": "#%%\n"
    }
   }
  },
  {
   "cell_type": "code",
   "execution_count": 5,
   "outputs": [
    {
     "name": "stderr",
     "output_type": "stream",
     "text": [
      "C:\\Users\\win10\\AppData\\Local\\Temp\\ipykernel_45204\\511628581.py:3: DeprecationWarning: BICUBIC is deprecated and will be removed in Pillow 10 (2023-07-01). Use Resampling.BICUBIC instead.\n",
      "  pil = transforms.Resize(size=(512, 512), interpolation=Image.BICUBIC)(pil)\n",
      "E:\\Anaconda\\envs\\sth\\lib\\site-packages\\torchvision\\transforms\\transforms.py:257: UserWarning: Argument interpolation should be of type InterpolationMode instead of int. Please, use InterpolationMode enum.\n",
      "  warnings.warn(\n"
     ]
    }
   ],
   "source": [
    "pil = Image.open(f\"./source_pic/face5.jpg\")\n",
    "ori_size = pil.size[::-1]\n",
    "pil = transforms.Resize(size=(512, 512), interpolation=Image.BICUBIC)(pil)\n",
    "pic = topic(pil).unsqueeze(0).to(device)\n",
    "# pic = torch.ones(1, 3, 512, 512).to(device)\n",
    "pic.requires_grad = False"
   ],
   "metadata": {
    "collapsed": false,
    "pycharm": {
     "name": "#%%\n"
    }
   }
  },
  {
   "cell_type": "code",
   "execution_count": 6,
   "outputs": [],
   "source": [
    "source = \"a photo\"\n",
    "# source = \"black swan\"\n",
    "\n",
    "target = \"Metal\"\n",
    "# target = \"Neon Light\"\n",
    "# target = \"white swan\"\n",
    "# target = \"Pixar\"\n",
    "# target = \"pop art of night city\"\n",
    "# target = \"Van Gogh\"\n",
    "# target = \"the scream by Edvard Munch\"\n",
    "# target = \"Monet\"\n",
    "# target = \"cyberpunk 2077\"\n",
    "# target = \"Chinese Ink and wash painting\"\n",
    "# target = \"fire\"\n",
    "# target = \"woman\"\n",
    "# target = \"man with dark black skin and black hair\"\n",
    "# target = \"gold boat\"\n",
    "# target = \"The great wave off kanagawa by Hokusai\"\n",
    "# target = \"angry peppa pig\"\n",
    "\n",
    "path = \"result/result3.jpg\""
   ],
   "metadata": {
    "collapsed": false,
    "pycharm": {
     "name": "#%%\n"
    }
   }
  },
  {
   "cell_type": "code",
   "execution_count": 7,
   "outputs": [
    {
     "name": "stdout",
     "output_type": "stream",
     "text": [
      "iter: 1 loss: 10287.91796875\n",
      "iter: 2 loss: 10257.939453125\n",
      "iter: 3 loss: 9980.9013671875\n",
      "iter: 4 loss: 9801.048828125\n",
      "iter: 5 loss: 9548.78125\n",
      "iter: 6 loss: 9205.2978515625\n",
      "iter: 7 loss: 8901.5380859375\n",
      "iter: 8 loss: 8688.2158203125\n",
      "iter: 9 loss: 8416.9658203125\n",
      "iter: 10 loss: 8260.861328125\n",
      "iter: 11 loss: 8080.2998046875\n",
      "iter: 12 loss: 7938.5537109375\n",
      "iter: 13 loss: 7838.6005859375\n",
      "iter: 14 loss: 7655.4580078125\n",
      "iter: 15 loss: 7582.5205078125\n",
      "iter: 16 loss: 5232.12109375\n",
      "iter: 17 loss: 3418.274658203125\n",
      "iter: 18 loss: 3098.8291015625\n",
      "iter: 19 loss: 2476.791259765625\n",
      "iter: 20 loss: 1770.1134033203125\n",
      "iter: 21 loss: 2747.429443359375\n",
      "iter: 22 loss: 1833.73095703125\n",
      "iter: 23 loss: 1228.0653076171875\n",
      "iter: 24 loss: 2205.52880859375\n",
      "iter: 25 loss: 1100.6334228515625\n",
      "iter: 26 loss: 1484.542236328125\n",
      "iter: 27 loss: 1872.4884033203125\n",
      "iter: 28 loss: 1754.71337890625\n",
      "iter: 29 loss: 1348.42919921875\n",
      "iter: 30 loss: 1635.27978515625\n",
      "iter: 31 loss: 1325.8214111328125\n",
      "iter: 32 loss: 1416.1807861328125\n",
      "iter: 33 loss: 1004.919677734375\n",
      "iter: 34 loss: 993.4893798828125\n",
      "iter: 35 loss: 1775.158935546875\n",
      "iter: 36 loss: 1467.9715576171875\n",
      "iter: 37 loss: 1460.2994384765625\n",
      "iter: 38 loss: 1253.0623779296875\n",
      "iter: 39 loss: 1244.666748046875\n",
      "iter: 40 loss: 1138.2923583984375\n",
      "iter: 41 loss: 1426.39453125\n",
      "iter: 42 loss: 826.5655517578125\n",
      "iter: 43 loss: 1417.9813232421875\n",
      "iter: 44 loss: 1207.00537109375\n",
      "iter: 45 loss: 1398.3974609375\n",
      "iter: 46 loss: 1488.322998046875\n",
      "iter: 47 loss: 987.215087890625\n",
      "iter: 48 loss: 1179.2662353515625\n",
      "iter: 49 loss: 1071.044677734375\n",
      "iter: 50 loss: 1163.8656005859375\n",
      "iter: 51 loss: 1558.005859375\n",
      "iter: 52 loss: 961.0147705078125\n",
      "iter: 53 loss: 952.5010375976562\n",
      "iter: 54 loss: 1342.001708984375\n",
      "iter: 55 loss: 941.3672485351562\n",
      "iter: 56 loss: 1232.206298828125\n",
      "iter: 57 loss: 1326.9715576171875\n",
      "iter: 58 loss: 1222.186279296875\n",
      "iter: 59 loss: 922.7684936523438\n",
      "iter: 60 loss: 1013.9093017578125\n",
      "iter: 61 loss: 1008.5303955078125\n",
      "iter: 62 loss: 804.9539794921875\n",
      "iter: 63 loss: 1196.3330078125\n",
      "iter: 64 loss: 1090.2479248046875\n",
      "iter: 65 loss: 1285.818359375\n",
      "iter: 66 loss: 1185.093017578125\n",
      "iter: 67 loss: 983.1581420898438\n",
      "iter: 68 loss: 1177.2998046875\n",
      "iter: 69 loss: 1073.6046142578125\n",
      "iter: 70 loss: 1071.5653076171875\n",
      "iter: 71 loss: 1463.407470703125\n",
      "iter: 72 loss: 1269.8890380859375\n",
      "iter: 73 loss: 963.2161865234375\n",
      "iter: 74 loss: 1465.8826904296875\n",
      "iter: 75 loss: 969.3305053710938\n",
      "iter: 76 loss: 856.763427734375\n",
      "iter: 77 loss: 2150.73046875\n",
      "iter: 78 loss: 1986.154541015625\n",
      "iter: 79 loss: 1471.1680908203125\n",
      "iter: 80 loss: 1373.8555908203125\n",
      "iter: 81 loss: 1073.264404296875\n",
      "iter: 82 loss: 968.732666015625\n",
      "iter: 83 loss: 1459.316650390625\n",
      "iter: 84 loss: 1856.562744140625\n",
      "iter: 85 loss: 958.1439208984375\n",
      "iter: 86 loss: 856.6978759765625\n",
      "iter: 87 loss: 1049.142578125\n",
      "iter: 88 loss: 1243.112060546875\n",
      "iter: 89 loss: 2145.12353515625\n",
      "iter: 90 loss: 1137.4329833984375\n",
      "iter: 91 loss: 1442.250244140625\n",
      "iter: 92 loss: 1635.345458984375\n",
      "iter: 93 loss: 1143.485107421875\n",
      "iter: 94 loss: 1746.025390625\n",
      "iter: 95 loss: 1236.9005126953125\n",
      "iter: 96 loss: 1432.3109130859375\n",
      "iter: 97 loss: 1436.62451171875\n",
      "iter: 98 loss: 1530.5340576171875\n",
      "iter: 99 loss: 1431.7476806640625\n",
      "iter: 100 loss: 1630.9010009765625\n",
      "iter: 101 loss: 1125.393310546875\n",
      "iter: 102 loss: 924.1238403320312\n",
      "iter: 103 loss: 1414.2501220703125\n",
      "iter: 104 loss: 1213.7525634765625\n",
      "iter: 105 loss: 1410.2679443359375\n",
      "iter: 106 loss: 1504.022705078125\n",
      "iter: 107 loss: 1699.6829833984375\n",
      "iter: 108 loss: 1702.7025146484375\n",
      "iter: 109 loss: 2215.41943359375\n",
      "iter: 110 loss: 2199.18310546875\n",
      "iter: 111 loss: 1713.8740234375\n",
      "iter: 112 loss: 2003.576904296875\n",
      "iter: 113 loss: 1610.45751953125\n",
      "iter: 114 loss: 2708.29931640625\n",
      "iter: 115 loss: 2109.068115234375\n",
      "iter: 116 loss: 1813.5966796875\n",
      "iter: 117 loss: 1611.2642822265625\n",
      "iter: 118 loss: 1513.4854736328125\n",
      "iter: 119 loss: 1813.626953125\n",
      "iter: 120 loss: 2005.397705078125\n",
      "iter: 121 loss: 1818.534912109375\n",
      "iter: 122 loss: 2134.77734375\n",
      "iter: 123 loss: 2817.51025390625\n",
      "iter: 124 loss: 2334.53955078125\n",
      "iter: 125 loss: 1919.8677978515625\n",
      "iter: 126 loss: 2122.373779296875\n",
      "iter: 127 loss: 1848.6898193359375\n",
      "iter: 128 loss: 1621.27685546875\n",
      "iter: 129 loss: 2435.90380859375\n",
      "iter: 130 loss: 2030.5013427734375\n",
      "iter: 131 loss: 2555.55322265625\n",
      "iter: 132 loss: 2123.855224609375\n",
      "iter: 133 loss: 2453.9755859375\n",
      "iter: 134 loss: 2452.3134765625\n",
      "iter: 135 loss: 3655.915283203125\n",
      "iter: 136 loss: 2557.863037109375\n",
      "iter: 137 loss: 3799.7734375\n",
      "iter: 138 loss: 3471.353271484375\n",
      "iter: 139 loss: 2680.314208984375\n",
      "iter: 140 loss: 3975.283203125\n",
      "iter: 141 loss: 2772.682373046875\n",
      "iter: 142 loss: 2683.00634765625\n",
      "iter: 143 loss: 4078.48583984375\n",
      "iter: 144 loss: 2688.257568359375\n",
      "iter: 145 loss: 3388.424560546875\n",
      "iter: 146 loss: 3883.18359375\n",
      "iter: 147 loss: 2177.856689453125\n",
      "iter: 148 loss: 3515.3544921875\n",
      "iter: 149 loss: 2616.346923828125\n",
      "iter: 150 loss: 3229.673828125\n",
      "iter: 151 loss: 3617.4208984375\n",
      "iter: 152 loss: 2824.26025390625\n",
      "iter: 153 loss: 3424.14404296875\n",
      "iter: 154 loss: 3307.816650390625\n",
      "iter: 155 loss: 3207.025634765625\n",
      "iter: 156 loss: 3804.076416015625\n",
      "iter: 157 loss: 3287.65966796875\n",
      "iter: 158 loss: 3324.18603515625\n",
      "iter: 159 loss: 3456.17431640625\n",
      "iter: 160 loss: 3043.352294921875\n",
      "iter: 161 loss: 3639.4609375\n",
      "iter: 162 loss: 3311.626953125\n",
      "iter: 163 loss: 4340.72900390625\n",
      "iter: 164 loss: 3939.44921875\n",
      "iter: 165 loss: 3028.4580078125\n",
      "iter: 166 loss: 3136.248046875\n",
      "iter: 167 loss: 3854.478271484375\n",
      "iter: 168 loss: 3467.09033203125\n",
      "iter: 169 loss: 2842.72900390625\n",
      "iter: 170 loss: 3837.762939453125\n",
      "iter: 171 loss: 3249.896728515625\n",
      "iter: 172 loss: 3353.875\n",
      "iter: 173 loss: 3770.82275390625\n",
      "iter: 174 loss: 3672.84716796875\n",
      "iter: 175 loss: 4153.5478515625\n",
      "iter: 176 loss: 3950.41064453125\n",
      "iter: 177 loss: 3881.605712890625\n",
      "iter: 178 loss: 4195.33251953125\n",
      "iter: 179 loss: 3767.348876953125\n",
      "iter: 180 loss: 4753.5107421875\n",
      "iter: 181 loss: 4482.28173828125\n",
      "iter: 182 loss: 4700.15673828125\n",
      "iter: 183 loss: 4172.23974609375\n",
      "iter: 184 loss: 4326.0712890625\n",
      "iter: 185 loss: 5016.5712890625\n",
      "iter: 186 loss: 4895.9365234375\n",
      "iter: 187 loss: 5002.8115234375\n",
      "iter: 188 loss: 4974.4013671875\n",
      "iter: 189 loss: 4936.68798828125\n",
      "iter: 190 loss: 5541.7919921875\n",
      "iter: 191 loss: 5644.81201171875\n",
      "iter: 192 loss: 4641.24462890625\n",
      "iter: 193 loss: 4969.13232421875\n",
      "iter: 194 loss: 5016.92578125\n",
      "iter: 195 loss: 4864.57177734375\n",
      "iter: 196 loss: 5448.533203125\n",
      "iter: 197 loss: 5048.73828125\n",
      "iter: 198 loss: 5821.41015625\n",
      "iter: 199 loss: 6512.513671875\n",
      "iter: 200 loss: 5845.0927734375\n",
      "usetime: 104.07642436027527\n"
     ]
    },
    {
     "name": "stderr",
     "output_type": "stream",
     "text": [
      "C:\\Users\\win10\\AppData\\Local\\Temp\\ipykernel_45204\\2798518496.py:65: DeprecationWarning: BICUBIC is deprecated and will be removed in Pillow 10 (2023-07-01). Use Resampling.BICUBIC instead.\n",
      "  pil = transforms.Resize(size=ori_size, interpolation=Image.BICUBIC)(pil)\n"
     ]
    }
   ],
   "source": [
    "start = time.time()\n",
    "train(200, 200, pic, source, target, path)\n",
    "end = time.time()\n",
    "usetime = end - start\n",
    "print(f\"usetime: {usetime}\")"
   ],
   "metadata": {
    "collapsed": false,
    "pycharm": {
     "name": "#%%\n"
    }
   }
  },
  {
   "cell_type": "code",
   "execution_count": 8,
   "outputs": [
    {
     "name": "stderr",
     "output_type": "stream",
     "text": [
      "C:\\Users\\win10\\AppData\\Local\\Temp\\ipykernel_45204\\1981065163.py:3: DeprecationWarning: BICUBIC is deprecated and will be removed in Pillow 10 (2023-07-01). Use Resampling.BICUBIC instead.\n",
      "  pil = transforms.Resize(size=ori_size, interpolation=Image.BICUBIC)(pil)\n"
     ]
    }
   ],
   "source": [
    "neo_pic = model(pic)\n",
    "pil = topil(neo_pic.squeeze(0).cpu())\n",
    "pil = transforms.Resize(size=ori_size, interpolation=Image.BICUBIC)(pil)\n",
    "pil.save(path)\n"
   ],
   "metadata": {
    "collapsed": false,
    "pycharm": {
     "name": "#%%\n"
    }
   }
  },
  {
   "cell_type": "code",
   "execution_count": 9,
   "outputs": [],
   "source": [
    "# with open(file = \"neo_cmp_outer.txt\", mode = \"w\") as file:\n",
    "#     for i in loss_li:\n",
    "#         file.write(str(i)+\" \")\n",
    "#     file.write(\"\\n\")\n",
    "#     file.write(str(cur_times+1))"
   ],
   "metadata": {
    "collapsed": false,
    "pycharm": {
     "name": "#%%\n"
    }
   }
  },
  {
   "cell_type": "code",
   "execution_count": 10,
   "outputs": [
    {
     "data": {
      "text/plain": "[<matplotlib.lines.Line2D at 0x2ce2f122b50>]"
     },
     "execution_count": 10,
     "metadata": {},
     "output_type": "execute_result"
    },
    {
     "data": {
      "text/plain": "<Figure size 640x480 with 1 Axes>",
      "image/png": "[encoded data removed]"
     },
     "metadata": {},
     "output_type": "display_data"
    }
   ],
   "source": [
    "import matplotlib.pyplot as plt\n",
    "\n",
    "x = [i for i in range(200)]\n",
    "loss_li = [x/(cur_times+1) for x in loss_li]\n",
    "plt.plot(x,loss_li,color=\"red\",marker=\"o\")\n",
    "\n"
   ],
   "metadata": {
    "collapsed": false,
    "pycharm": {
     "name": "#%%\n"
    }
   }
  }
 ],
 "metadata": {
  "kernelspec": {
   "display_name": "Python 3",
   "language": "python",
   "name": "python3"
  },
  "language_info": {
   "codemirror_mode": {
    "name": "ipython",
    "version": 2
   },
   "file_extension": ".py",
   "mimetype": "text/x-python",
   "name": "python",
   "nbconvert_exporter": "python",
   "pygments_lexer": "ipython2",
   "version": "2.7.6"
  }
 },
 "nbformat": 4,
 "nbformat_minor": 0
}