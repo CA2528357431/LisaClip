{
 "cells": [
  {
   "cell_type": "code",
   "execution_count": 1,
   "outputs": [],
   "source": [
    "import torch\n",
    "import torch.optim as optim\n",
    "import torchvision\n",
    "import torchvision.transforms as transforms\n",
    "from PIL import Image"
   ],
   "metadata": {
    "collapsed": false,
    "pycharm": {
     "name": "#%%\n"
    }
   }
  },
  {
   "cell_type": "code",
   "execution_count": 2,
   "outputs": [],
   "source": [
    "from network.mynetwork_uu_bg import Unet as Uunet\n",
    "from network.mynetwork import Unet\n",
    "from network.mynetwork_cmp import Unet as Unet_cmp\n",
    "from network.styler import Unet as Unet_styler\n",
    "from loss.loss import CLIPLoss\n"
   ],
   "metadata": {
    "collapsed": false,
    "pycharm": {
     "name": "#%%\n"
    }
   }
  },
  {
   "cell_type": "code",
   "execution_count": 3,
   "outputs": [],
   "source": [
    "from thop import profile\n",
    "from torchsummary import summary\n"
   ],
   "metadata": {
    "collapsed": false,
    "pycharm": {
     "name": "#%%\n"
    }
   }
  },
  {
   "cell_type": "code",
   "execution_count": 4,
   "outputs": [],
   "source": [
    "device = \"cuda\" if torch.cuda.is_available() else \"cpu\"\n",
    "# device = \"cpu\"\n",
    "\n",
    "input_pic = torch.ones(1, 3, 512, 512).to(device)\n",
    "input1 = torch.ones(1, 3, 244, 244).to(device).long()\n",
    "input2 = torch.ones(1, 77).to(device).long()"
   ],
   "metadata": {
    "collapsed": false,
    "pycharm": {
     "name": "#%%\n"
    }
   }
  },
  {
   "cell_type": "code",
   "execution_count": 5,
   "outputs": [
    {
     "name": "stdout",
     "output_type": "stream",
     "text": [
      "clip\n",
      "FLOPs = 4.884529152G\n",
      "Params = 84.225024M\n"
     ]
    }
   ],
   "source": [
    "print(\"clip\")\n",
    "model = CLIPLoss(device).to(device)\n",
    "model_clip = model.model\n",
    "clip_flops, clip_params = profile(model_clip, inputs=(input1, input2), verbose=False)\n",
    "print('FLOPs = ' + str(clip_flops/(1000**3)) + 'G')\n",
    "print('Params = ' + str(clip_params/(1000**2)) + 'M')"
   ],
   "metadata": {
    "collapsed": false,
    "pycharm": {
     "name": "#%%\n"
    }
   }
  },
  {
   "cell_type": "code",
   "execution_count": 6,
   "outputs": [
    {
     "name": "stdout",
     "output_type": "stream",
     "text": [
      "vgg19\n",
      "FLOPs = 101.9215872G\n",
      "Params = 20.024384M\n"
     ]
    }
   ],
   "source": [
    "print(\"vgg19\")\n",
    "model_vgg = torchvision.models.vgg19(pretrained=True).features.to(device)\n",
    "vgg_flops, vgg_params = profile(model_vgg, inputs=(input_pic,), verbose=False)\n",
    "print('FLOPs = ' + str(vgg_flops/(1000**3)) + 'G')\n",
    "print('Params = ' + str(vgg_params/(1000**2)) + 'M')"
   ],
   "metadata": {
    "collapsed": false,
    "pycharm": {
     "name": "#%%\n"
    }
   }
  },
  {
   "cell_type": "code",
   "execution_count": 7,
   "outputs": [
    {
     "name": "stdout",
     "output_type": "stream",
     "text": [
      "mine\n",
      "FLOPs = 60.609789952G\n",
      "Params = 2.562883M\n"
     ]
    }
   ],
   "source": [
    "print(\"mine\")\n",
    "model_mine = Uunet(device).to(device)\n",
    "mine_flops, mine_params = profile(model_mine, inputs=(input_pic,), verbose=False)\n",
    "print('FLOPs = ' + str((mine_flops)/(1000**3)) + 'G')\n",
    "print('Params = ' + str((mine_params)/(1000**2)) + 'M')\n",
    "\n"
   ],
   "metadata": {
    "collapsed": false,
    "pycharm": {
     "name": "#%%\n"
    }
   }
  },
  {
   "cell_type": "code",
   "execution_count": 8,
   "outputs": [
    {
     "name": "stdout",
     "output_type": "stream",
     "text": [
      "mine_u\n",
      "FLOPs = 58.46990848G\n",
      "Params = 86.858755M\n"
     ]
    }
   ],
   "source": [
    "print(\"mine_u\")\n",
    "model_mine_u = Unet(device).to(device)\n",
    "mine_u_flops, mine_u_params = profile(model_mine_u, inputs=(input_pic,), verbose=False)\n",
    "print('FLOPs = ' + str((mine_u_flops+clip_flops)/(1000**3)) + 'G')\n",
    "print('Params = ' + str((mine_u_params+clip_params)/(1000**2)) + 'M')"
   ],
   "metadata": {
    "collapsed": false,
    "pycharm": {
     "name": "#%%\n"
    }
   }
  },
  {
   "cell_type": "code",
   "execution_count": 9,
   "outputs": [],
   "source": [
    "# print(\"cmp\")\n",
    "# model = Unet_cmp(device).to(device)\n",
    "# cmp_flops, cmp_params = profile(model, inputs=(input_pic,), verbose=False)\n",
    "# print('FLOPs = ' + str((cmp_flops+clip_flops+vgg_flops)/(1000**3)) + 'G')\n",
    "# print('Params = ' + str((cmp_params+clip_params+vgg_params)/(1000**2)) + 'M')"
   ],
   "metadata": {
    "collapsed": false,
    "pycharm": {
     "name": "#%%\n"
    }
   }
  },
  {
   "cell_type": "code",
   "execution_count": 10,
   "outputs": [
    {
     "name": "stdout",
     "output_type": "stream",
     "text": [
      "styler\n",
      "FLOPs = 16.252928G\n",
      "Params = 0.615267M\n"
     ]
    }
   ],
   "source": [
    "print(\"styler\")\n",
    "model = Unet_styler().to(device)\n",
    "sty_flops, sty_params = profile(model, inputs=(input_pic,), verbose=False)\n",
    "print('FLOPs = ' + str((sty_flops)/(1000**3)) + 'G')\n",
    "print('Params = ' + str((sty_params)/(1000**2)) + 'M')\n",
    "\n"
   ],
   "metadata": {
    "collapsed": false,
    "pycharm": {
     "name": "#%%\n"
    }
   }
  },
  {
   "cell_type": "code",
   "execution_count": 11,
   "outputs": [],
   "source": [
    "# print(\"vgg\")\n",
    "# summary(model_vgg,input_size=input_pic.shape[1:])"
   ],
   "metadata": {
    "collapsed": false,
    "pycharm": {
     "name": "#%%\n"
    }
   }
  },
  {
   "cell_type": "code",
   "execution_count": 12,
   "outputs": [],
   "source": [
    "# print(\"mine\")\n",
    "# summary(model_mine,input_size=input_pic.shape[1:])"
   ],
   "metadata": {
    "collapsed": false,
    "pycharm": {
     "name": "#%%\n"
    }
   }
  },
  {
   "cell_type": "code",
   "execution_count": 13,
   "outputs": [],
   "source": [
    "# print(\"mine_u\")\n",
    "# summary(model_mine_u,input_size=input_pic.shape[1:])\n"
   ],
   "metadata": {
    "collapsed": false,
    "pycharm": {
     "name": "#%%\n"
    }
   }
  },
  {
   "cell_type": "code",
   "execution_count": 14,
   "outputs": [],
   "source": [
    "# print(\"styler\")\n",
    "# summary(model,input_size=input_pic.shape[1:])\n",
    "\n"
   ],
   "metadata": {
    "collapsed": false,
    "pycharm": {
     "name": "#%%\n"
    }
   }
  }
 ],
 "metadata": {
  "kernelspec": {
   "display_name": "Python 3",
   "language": "python",
   "name": "python3"
  },
  "language_info": {
   "codemirror_mode": {
    "name": "ipython",
    "version": 2
   },
   "file_extension": ".py",
   "mimetype": "text/x-python",
   "name": "python",
   "nbconvert_exporter": "python",
   "pygments_lexer": "ipython2",
   "version": "2.7.6"
  }
 },
 "nbformat": 4,
 "nbformat_minor": 0
}