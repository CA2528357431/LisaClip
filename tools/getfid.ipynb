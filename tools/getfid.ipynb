{
 "cells": [
  {
   "cell_type": "code",
   "execution_count": 1,
   "metadata": {
    "collapsed": true
   },
   "outputs": [],
   "source": [
    "from PIL import Image\n",
    "import numpy as np\n",
    "\n",
    "import torch\n",
    "import torch.nn\n",
    "import torch.optim as optim\n",
    "from torchvision import transforms, models\n",
    "\n",
    "\n",
    "import clip\n",
    "\n",
    "import random\n",
    "\n",
    "from PIL import Image"
   ]
  },
  {
   "cell_type": "code",
   "execution_count": 2,
   "outputs": [],
   "source": [
    "from clipscore_func import *"
   ],
   "metadata": {
    "collapsed": false,
    "pycharm": {
     "name": "#%%\n"
    }
   }
  },
  {
   "cell_type": "code",
   "execution_count": 3,
   "outputs": [],
   "source": [
    "\n",
    "\n",
    "import numpy\n",
    "from numpy import cov\n",
    "from numpy import trace\n",
    "from numpy import iscomplexobj\n",
    "from numpy.random import random\n",
    "from scipy.linalg import sqrtm\n",
    "\n",
    "def calculate_fid(act1, act2):\n",
    "    # print(act1.shape)\n",
    "    # calculate mean and covariance statistics\n",
    "    mu1, sigma1 = act1.mean(axis= 0), cov(act1, rowvar= False)\n",
    "    mu2, sigma2 = act2.mean(axis= 0), cov(act2, rowvar= False)\n",
    "\n",
    "    # calculate sum squared difference between means\n",
    "    ssdiff = numpy.sum((mu1 - mu2)**2.0)\n",
    "\n",
    "    # calculate sqrt of product between cov\n",
    "    covmean = sqrtm(sigma1.dot(sigma2))\n",
    "\n",
    "    # check and correct imaginary numbers from sqrt\n",
    "    if iscomplexobj(covmean):\n",
    "        covmean = covmean.real\n",
    "        # calculate score\n",
    "    fid = ssdiff + trace(sigma1 + sigma2 - 2.0*covmean)\n",
    "    return fid"
   ],
   "metadata": {
    "collapsed": false,
    "pycharm": {
     "name": "#%%\n"
    }
   }
  },
  {
   "cell_type": "code",
   "execution_count": 4,
   "outputs": [],
   "source": [
    "def get_fid(path1, path2):\n",
    "\n",
    "    li1 = []\n",
    "    names1 = getnames(path1)\n",
    "    for x in names1:\n",
    "        x = path1+x\n",
    "        pil1 = Image.open(x)\n",
    "        p1 = pre(pil1).unsqueeze(0).to(\"cuda\")\n",
    "        v1 = model.encode_image(p1)\n",
    "        li1.append(v1)\n",
    "\n",
    "    li2 = []\n",
    "    names2 = getnames(path2)\n",
    "    for x in names2:\n",
    "        x = path2+x\n",
    "        pil2 = Image.open(x)\n",
    "        p2 = pre(pil2).unsqueeze(0).to(\"cuda\")\n",
    "        v2 = model.encode_image(p2)\n",
    "        li2.append(v2)\n",
    "\n",
    "    # while len(li1)!=len(li2):\n",
    "    #     if len(li1)<len(li2):\n",
    "    #         li1 += li1[:len(li2)-len(li1)]\n",
    "    #     else:\n",
    "    #         li2 += li2[:len(li1)-len(li2)]\n",
    "    # li1 = li1[:2]\n",
    "    # li2 = li2[:2]\n",
    "    v1 = torch.cat(li1,dim=0)\n",
    "    v2 = torch.cat(li2,dim=0)\n",
    "\n",
    "    # print(v1.shape)\n",
    "    # print(v2.shape)\n",
    "    fid = calculate_fid(v1.cpu().detach().numpy(),v2.cpu().detach().numpy())\n",
    "\n",
    "    return fid"
   ],
   "metadata": {
    "collapsed": false,
    "pycharm": {
     "name": "#%%\n"
    }
   }
  },
  {
   "cell_type": "code",
   "execution_count": 5,
   "outputs": [
    {
     "name": "stdout",
     "output_type": "stream",
     "text": [
      "58.10307808694492\n"
     ]
    }
   ],
   "source": [
    "path1 = \"./ori/\"\n",
    "path2 = \"./ours/\"\n",
    "res = get_fid(path1, path2)\n",
    "print(res)"
   ],
   "metadata": {
    "collapsed": false,
    "pycharm": {
     "name": "#%%\n"
    }
   }
  },
  {
   "cell_type": "code",
   "execution_count": 6,
   "outputs": [
    {
     "name": "stdout",
     "output_type": "stream",
     "text": [
      "60.97844166566597\n"
     ]
    }
   ],
   "source": [
    "path1 = \"./ori/\"\n",
    "path2 = \"./clip/\"\n",
    "res = get_fid(path1, path2)\n",
    "print(res)"
   ],
   "metadata": {
    "collapsed": false,
    "pycharm": {
     "name": "#%%\n"
    }
   }
  },
  {
   "cell_type": "code",
   "execution_count": 7,
   "outputs": [
    {
     "name": "stdout",
     "output_type": "stream",
     "text": [
      "73.1886957143498\n"
     ]
    }
   ],
   "source": [
    "path1 = \"./ori/\"\n",
    "path2 = \"./diffusion/\"\n",
    "res = get_fid(path1, path2)\n",
    "print(res)"
   ],
   "metadata": {
    "collapsed": false,
    "pycharm": {
     "name": "#%%\n"
    }
   }
  },
  {
   "cell_type": "code",
   "execution_count": 8,
   "outputs": [
    {
     "name": "stdout",
     "output_type": "stream",
     "text": [
      "56.26342918598985\n"
     ]
    }
   ],
   "source": [
    "path1 = \"./ori/\"\n",
    "path2 = \"./ccpl/\"\n",
    "res = get_fid(path1, path2)\n",
    "print(res)"
   ],
   "metadata": {
    "collapsed": false,
    "pycharm": {
     "name": "#%%\n"
    }
   }
  },
  {
   "cell_type": "code",
   "execution_count": 9,
   "outputs": [
    {
     "name": "stdout",
     "output_type": "stream",
     "text": [
      "100.17001756261831\n"
     ]
    }
   ],
   "source": [
    "path1 = \"./ori/\"\n",
    "path2 = \"./nada/\"\n",
    "res = get_fid(path1, path2)\n",
    "print(res)"
   ],
   "metadata": {
    "collapsed": false,
    "pycharm": {
     "name": "#%%\n"
    }
   }
  },
  {
   "cell_type": "code",
   "execution_count": 10,
   "outputs": [
    {
     "name": "stdout",
     "output_type": "stream",
     "text": [
      "93.18295212348264\n"
     ]
    }
   ],
   "source": [
    "path1 = \"./ori/\"\n",
    "path2 = \"./styleclip/\"\n",
    "res = get_fid(path1, path2)\n",
    "print(res)"
   ],
   "metadata": {
    "collapsed": false,
    "pycharm": {
     "name": "#%%\n"
    }
   }
  },
  {
   "cell_type": "code",
   "execution_count": 15,
   "outputs": [
    {
     "name": "stdout",
     "output_type": "stream",
     "text": [
      "62.83765689287611\n",
      "52.84462598299723\n",
      "31.347079971064076\n"
     ]
    }
   ],
   "source": [
    "path1 = \"./patchsize/ori/\"\n",
    "path2 = \"./patchsize/128/\"\n",
    "res = get_fid(path1, path2)\n",
    "print(res)\n",
    "path1 = \"./patchsize/ori/\"\n",
    "path2 = \"./patchsize/384/\"\n",
    "res = get_fid(path1, path2)\n",
    "print(res)\n",
    "path1 = \"./patchsize/ori/\"\n",
    "path2 = \"./patchsize/500/\"\n",
    "res = get_fid(path1, path2)\n",
    "print(res)"
   ],
   "metadata": {
    "collapsed": false,
    "pycharm": {
     "name": "#%%\n"
    }
   }
  }
 ],
 "metadata": {
  "kernelspec": {
   "display_name": "Python 3",
   "language": "python",
   "name": "python3"
  },
  "language_info": {
   "codemirror_mode": {
    "name": "ipython",
    "version": 2
   },
   "file_extension": ".py",
   "mimetype": "text/x-python",
   "name": "python",
   "nbconvert_exporter": "python",
   "pygments_lexer": "ipython2",
   "version": "2.7.6"
  }
 },
 "nbformat": 4,
 "nbformat_minor": 0
}