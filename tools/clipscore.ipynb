{
 "cells": [
  {
   "cell_type": "code",
   "execution_count": 1,
   "outputs": [],
   "source": [
    "from PIL import Image\n",
    "import numpy as np\n",
    "\n",
    "import torch\n",
    "import torch.nn\n",
    "import torch.optim as optim\n",
    "from torchvision import transforms, models\n",
    "\n",
    "import network.styler as StyleNet\n",
    "\n",
    "import utils.func as func\n",
    "\n",
    "\n",
    "import clip\n",
    "import torch.nn.functional as F\n",
    "from utils.text_templates import imagenet_templates\n",
    "\n",
    "import random\n",
    "\n",
    "from PIL import Image \n",
    "import PIL \n",
    "from torchvision import utils as vutils\n",
    "import argparse\n",
    "from torchvision.transforms.functional import adjust_contrast\n",
    "\n",
    "from matplotlib import pyplot as plt"
   ],
   "metadata": {
    "collapsed": false,
    "pycharm": {
     "name": "#%%\n"
    }
   }
  },
  {
   "cell_type": "code",
   "execution_count": 2,
   "outputs": [],
   "source": [
    "topil = transforms.ToPILImage()\n",
    "topic = transforms.ToTensor()\n"
   ],
   "metadata": {
    "collapsed": false,
    "pycharm": {
     "name": "#%%\n"
    }
   }
  },
  {
   "cell_type": "code",
   "execution_count": 3,
   "outputs": [],
   "source": [
    "def random_patch(img, size):\n",
    "\n",
    "\n",
    "\n",
    "        channels, height, width = img.shape\n",
    "        half = size // 2\n",
    "\n",
    "        point_x = random.randint(half, width - half)\n",
    "        point_y = random.randint(half, height - half)\n",
    "\n",
    "        patch = img[:, point_y - half:point_y + half, point_x - half:point_x + half].cpu()\n",
    "\n",
    "        pil = topil(patch)\n",
    "\n",
    "        return pil"
   ],
   "metadata": {
    "collapsed": false,
    "pycharm": {
     "name": "#%%\n"
    }
   }
  },
  {
   "cell_type": "code",
   "execution_count": 4,
   "outputs": [],
   "source": [
    "model,pre = clip.load('ViT-B/32', device=\"cuda\")"
   ],
   "metadata": {
    "collapsed": false,
    "pycharm": {
     "name": "#%%\n"
    }
   }
  },
  {
   "cell_type": "code",
   "execution_count": 5,
   "outputs": [],
   "source": [
    "score_func = torch.nn.CosineSimilarity()\n",
    "\n"
   ],
   "metadata": {
    "collapsed": false,
    "pycharm": {
     "name": "#%%\n"
    }
   }
  },
  {
   "cell_type": "code",
   "execution_count": 6,
   "outputs": [],
   "source": [
    "def get_patch_score(path, text):\n",
    "    pic1 = topic(Image.open(path))\n",
    "    size1 = random.randint(32,112)*2\n",
    "    p1 = pre(random_patch(pic1,size1)).unsqueeze(0).to(\"cuda\")\n",
    "    v1 = model.encode_image(p1)\n",
    "\n",
    "    text = [text]\n",
    "    token = clip.tokenize(text).to(\"cuda\")\n",
    "    v2 = model.encode_text(token)\n",
    "\n",
    "    res = score_func(v1,v2)\n",
    "\n",
    "    return res.item()\n"
   ],
   "metadata": {
    "collapsed": false,
    "pycharm": {
     "name": "#%%\n"
    }
   }
  },
  {
   "cell_type": "code",
   "execution_count": 7,
   "outputs": [],
   "source": [
    "length = 64\n",
    "\n",
    "# path = \"../temp/{}.jpg\"\n",
    "# texts = [\"boat\", \"girl\", \"man\", \"lotus\"]\n",
    "# num = 4\n",
    "\n",
    "path = \"../temp1/{}.jpg\"\n",
    "texts = [\"angry\", \"Mark Elliot Zuckerberg\", \"Pixar\", \"man with dark black skin and black hair\"]\n",
    "num = 4\n",
    "\n"
   ],
   "metadata": {
    "collapsed": false,
    "pycharm": {
     "name": "#%%\n"
    }
   }
  },
  {
   "cell_type": "code",
   "execution_count": 17,
   "outputs": [
    {
     "name": "stdout",
     "output_type": "stream",
     "text": [
      "ours\n",
      "0.2487621307373047\n",
      "0.27358245849609375\n",
      "0.20812416076660156\n",
      "0.26038360595703125\n",
      "avg: 0.2477130889892578\n",
      "\n",
      "style clip\n",
      "0.22249221801757812\n",
      "0.20925521850585938\n",
      "0.1915912628173828\n",
      "0.21426963806152344\n",
      "avg: 0.20940208435058594\n"
     ]
    }
   ],
   "source": [
    "print(\"ours\")\n",
    "resli1 = []\n",
    "for i in range(num):\n",
    "    for j in range(length):\n",
    "        resli1.append(get_patch_score(path.format(i+1),texts[i]))\n",
    "for i in range(num):\n",
    "    print(sum(resli1[i*64:i*64+64])/64)\n",
    "print(\"avg:\",sum(resli1)/num/length)\n",
    "\n",
    "print()\n",
    "\n",
    "print(\"style clip\")\n",
    "resli2 = []\n",
    "for i in range(num):\n",
    "    for j in range(length):\n",
    "        resli2.append(get_patch_score(path.format((i+1)*11),texts[i]))\n",
    "for i in range(num):\n",
    "    print(sum(resli2[i*64:i*64+64])/64)\n",
    "print(\"avg:\",sum(resli2)/num/length)"
   ],
   "metadata": {
    "collapsed": false,
    "pycharm": {
     "name": "#%%\n"
    }
   }
  },
  {
   "cell_type": "code",
   "execution_count": 9,
   "outputs": [
    {
     "name": "stdout",
     "output_type": "stream",
     "text": [
      "0.2510440008495499\n",
      "0.21004413353678125\n"
     ]
    }
   ],
   "source": [
    "res1 = (sum([x**2 for x in resli1])/(length*num))**0.5\n",
    "print(res1)\n",
    "res2 = (sum([x**2 for x in resli2])/(length*num))**0.5\n",
    "print(res2)"
   ],
   "metadata": {
    "collapsed": false,
    "pycharm": {
     "name": "#%%\n"
    }
   }
  },
  {
   "cell_type": "code",
   "execution_count": 10,
   "outputs": [],
   "source": [
    "lli = [resli1,resli2]"
   ],
   "metadata": {
    "collapsed": false,
    "pycharm": {
     "name": "#%%\n"
    }
   }
  },
  {
   "cell_type": "code",
   "execution_count": 11,
   "outputs": [
    {
     "data": {
      "text/plain": "(array([[ 1.,  0.,  1.,  0.,  1.,  0.,  1.,  2.,  1.,  0.,  4.,  2.,  3.,\n          3.,  5.,  1.,  1.,  5.,  7.,  7.,  9.,  2.,  5.,  6., 10., 11.,\n         10., 11.,  5.,  5., 11.,  3.,  5.,  4., 11.,  6.,  5.,  6.,  3.,\n          8.,  3.,  9.,  3.,  5.,  3.,  2.,  7.,  4.,  2.,  4.,  4.,  2.,\n          3.,  4.,  2.,  2.,  4.,  2.,  2.,  1.,  1.,  1.,  3.,  2.],\n        [ 0.,  1.,  0.,  0.,  2.,  0.,  5.,  5.,  3.,  6.,  7.,  7., 13.,\n          9., 13., 13., 12., 12., 13., 10., 24., 16., 15., 24., 16.,  6.,\n         13.,  3.,  3.,  3.,  2.,  0.,  0.,  0.,  0.,  0.,  0.,  0.,  0.,\n          0.,  0.,  0.,  0.,  0.,  0.,  0.,  0.,  0.,  0.,  0.,  0.,  0.,\n          0.,  0.,  0.,  0.,  0.,  0.,  0.,  0.,  0.,  0.,  0.,  0.]]),\n array([0.15795898, 0.1607132 , 0.16346741, 0.16622162, 0.16897583,\n        0.17173004, 0.17448425, 0.17723846, 0.17999268, 0.18274689,\n        0.1855011 , 0.18825531, 0.19100952, 0.19376373, 0.19651794,\n        0.19927216, 0.20202637, 0.20478058, 0.20753479, 0.210289  ,\n        0.21304321, 0.21579742, 0.21855164, 0.22130585, 0.22406006,\n        0.22681427, 0.22956848, 0.23232269, 0.2350769 , 0.23783112,\n        0.24058533, 0.24333954, 0.24609375, 0.24884796, 0.25160217,\n        0.25435638, 0.2571106 , 0.25986481, 0.26261902, 0.26537323,\n        0.26812744, 0.27088165, 0.27363586, 0.27639008, 0.27914429,\n        0.2818985 , 0.28465271, 0.28740692, 0.29016113, 0.29291534,\n        0.29566956, 0.29842377, 0.30117798, 0.30393219, 0.3066864 ,\n        0.30944061, 0.31219482, 0.31494904, 0.31770325, 0.32045746,\n        0.32321167, 0.32596588, 0.32872009, 0.3314743 , 0.33422852]),\n <a list of 2 list[Polygon] objects>)"
     },
     "execution_count": 11,
     "metadata": {},
     "output_type": "execute_result"
    },
    {
     "data": {
      "text/plain": "<Figure size 640x480 with 1 Axes>",
      "image/png": "[encoded data removed]"
     },
     "metadata": {},
     "output_type": "display_data"
    }
   ],
   "source": [
    "plt.hist(lli, bins=64, alpha=0.5, color=[\"r\",\"b\"], histtype='stepfilled')\n",
    "\n",
    "# li1 = [\n",
    "#     0.2544645265322486,\n",
    "#     0.2675407289560878,\n",
    "#     0.3388551131359217,\n",
    "#     0.23511448272211505,\n",
    "#     ]\n",
    "#\n",
    "# li2 = [\n",
    "#     0.30561701119962764,\n",
    "#     0.3388551131359217,\n",
    "#     0.299122750439292,\n",
    "#     0.26629640945130206,\n",
    "#     ]"
   ],
   "metadata": {
    "collapsed": false,
    "pycharm": {
     "name": "#%%\n"
    }
   }
  },
  {
   "cell_type": "code",
   "execution_count": 12,
   "outputs": [],
   "source": [
    "def get_score(path, text):\n",
    "    pil = Image.open(path)\n",
    "    p1 = pre(pil).unsqueeze(0).to(\"cuda\")\n",
    "    v1 = model.encode_image(p1)\n",
    "\n",
    "    text = [text]\n",
    "    token = clip.tokenize(text).to(\"cuda\")\n",
    "    v2 = model.encode_text(token)\n",
    "\n",
    "    res = score_func(v1,v2)\n",
    "\n",
    "    return res.item()"
   ],
   "metadata": {
    "collapsed": false,
    "pycharm": {
     "name": "#%%\n"
    }
   }
  },
  {
   "cell_type": "code",
   "execution_count": 13,
   "outputs": [
    {
     "name": "stdout",
     "output_type": "stream",
     "text": [
      "ours\n",
      "0.2763671875\n",
      "0.353759765625\n",
      "0.233642578125\n",
      "0.349853515625\n",
      "avg: 0.30340576171875\n",
      "\n",
      "styleclip\n",
      "0.2171630859375\n",
      "0.256103515625\n",
      "0.2041015625\n",
      "0.2191162109375\n",
      "avg: 0.22412109375\n"
     ]
    }
   ],
   "source": [
    "print(\"ours\")\n",
    "t1 = 0\n",
    "for i in range(num):\n",
    "    res = get_score(path.format(i+1),texts[i])\n",
    "    print(res)\n",
    "    t1+=res\n",
    "print(\"avg:\",t1/num)\n",
    "\n",
    "print()\n",
    "\n",
    "\n",
    "print(\"styleclip\")\n",
    "t2=0\n",
    "for i in range(num):\n",
    "    res = get_score(path.format((i+1)*11),texts[i])\n",
    "    print(res)\n",
    "    t2+=res\n",
    "print(\"avg:\",t2/num)"
   ],
   "metadata": {
    "collapsed": false,
    "pycharm": {
     "name": "#%%\n"
    }
   }
  },
  {
   "cell_type": "code",
   "execution_count": 14,
   "outputs": [
    {
     "name": "stdout",
     "output_type": "stream",
     "text": [
      "0.2467803955078125\n",
      "0.23476028442382812\n"
     ]
    }
   ],
   "source": [
    "li = []\n",
    "for j in range(length):\n",
    "    li.append(get_patch_score(\"../temp1/0.png\",\"man with black skin and black hair\"))\n",
    "print(sum(li)/length)\n",
    "\n",
    "li = []\n",
    "for j in range(length):\n",
    "    li.append(get_patch_score(\"../temp1/0.png\",\"woman\"))\n",
    "print(sum(li)/length)"
   ],
   "metadata": {
    "collapsed": false,
    "pycharm": {
     "name": "#%%\n"
    }
   }
  },
  {
   "cell_type": "code",
   "execution_count": 15,
   "outputs": [
    {
     "name": "stdout",
     "output_type": "stream",
     "text": [
      "0.19580078125\n"
     ]
    }
   ],
   "source": [
    "res = get_score(\"../temp1/4.jpg\",\"woman\")\n",
    "print(res)"
   ],
   "metadata": {
    "collapsed": false,
    "pycharm": {
     "name": "#%%\n"
    }
   }
  }
 ],
 "metadata": {
  "kernelspec": {
   "display_name": "Python 3",
   "language": "python",
   "name": "python3"
  },
  "language_info": {
   "codemirror_mode": {
    "name": "ipython",
    "version": 2
   },
   "file_extension": ".py",
   "mimetype": "text/x-python",
   "name": "python",
   "nbconvert_exporter": "python",
   "pygments_lexer": "ipython2",
   "version": "2.7.6"
  }
 },
 "nbformat": 4,
 "nbformat_minor": 0
}