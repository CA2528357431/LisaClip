{
 "cells": [
  {
   "cell_type": "code",
   "execution_count": 12,
   "metadata": {
    "collapsed": true
   },
   "outputs": [],
   "source": [
    "import torch\n",
    "import torch.optim as optim\n",
    "import torchvision\n",
    "import torchvision.transforms as transforms\n",
    "from PIL import Image"
   ]
  },
  {
   "cell_type": "code",
   "execution_count": 13,
   "outputs": [],
   "source": [
    "import os"
   ],
   "metadata": {
    "collapsed": false,
    "pycharm": {
     "name": "#%%\n"
    }
   }
  },
  {
   "cell_type": "code",
   "execution_count": 14,
   "outputs": [],
   "source": [
    "from loss.loss import CLIPLoss"
   ],
   "metadata": {
    "collapsed": false,
    "pycharm": {
     "name": "#%%\n"
    }
   }
  },
  {
   "cell_type": "code",
   "execution_count": 15,
   "outputs": [],
   "source": [
    "def getnames(path):\n",
    "    file_dir = path\n",
    "    li = []\n",
    "    for root, dirs, files in os.walk(file_dir, topdown=False):\n",
    "        li.append(files)\n",
    "    li = li[0]\n",
    "    li = [x for x in li if x[-3:]!=\"txt\"]\n",
    "    li.sort()\n",
    "    return li"
   ],
   "metadata": {
    "collapsed": false,
    "pycharm": {
     "name": "#%%\n"
    }
   }
  },
  {
   "cell_type": "code",
   "execution_count": 16,
   "outputs": [],
   "source": [
    "def getfeature(string):\n",
    "    name = string.split(\".\")[0]\n",
    "    while name[-1] in \"0123456789\":\n",
    "        name = name[:-1]\n",
    "    feature = name.split(\"-\")[-1]\n",
    "    return feature"
   ],
   "metadata": {
    "collapsed": false,
    "pycharm": {
     "name": "#%%\n"
    }
   }
  },
  {
   "cell_type": "code",
   "execution_count": 17,
   "outputs": [],
   "source": [
    "device = \"cuda\" if torch.cuda.is_available() else \"cpu\"\n",
    "cliploss = CLIPLoss(device)\n",
    "\n",
    "topil = transforms.ToPILImage()\n",
    "topic = transforms.ToTensor()"
   ],
   "metadata": {
    "collapsed": false,
    "pycharm": {
     "name": "#%%\n"
    }
   }
  },
  {
   "cell_type": "code",
   "execution_count": 18,
   "outputs": [],
   "source": [
    "\n",
    "\n",
    "def do(path):\n",
    "    names = getnames(path)\n",
    "    features = [getfeature(x) for x in names]\n",
    "\n",
    "    loss = 0\n",
    "    for i in range(len(names)):\n",
    "        full_path = path+names[i]\n",
    "        pil = Image.open(full_path)\n",
    "        pil = transforms.Resize(size=(512, 512), interpolation=Image.BICUBIC)(pil)\n",
    "        pic = topic(pil).unsqueeze(0).to(device)\n",
    "        gol_loss = cliploss.global_clip_loss(pic, features[i])\n",
    "        loss+=gol_loss.item()\n",
    "\n",
    "    loss = loss/len(names)\n",
    "    print(loss)\n",
    "    print()"
   ],
   "metadata": {
    "collapsed": false,
    "pycharm": {
     "name": "#%%\n"
    }
   }
  },
  {
   "cell_type": "code",
   "execution_count": 19,
   "outputs": [
    {
     "name": "stdout",
     "output_type": "stream",
     "text": [
      "ccpl\n",
      "0.7781982421875\n",
      "\n",
      "clipstyler\n",
      "0.7115234375\n",
      "\n",
      "diffusion\n",
      "0.7193115234375\n",
      "\n",
      "nada\n",
      "0.69853515625\n",
      "\n",
      "ours\n",
      "0.7128662109375\n",
      "\n",
      "styleclip\n",
      "0.771875\n",
      "\n"
     ]
    },
    {
     "name": "stderr",
     "output_type": "stream",
     "text": [
      "C:\\Users\\win10\\AppData\\Local\\Temp\\ipykernel_39820\\2513326688.py:9: DeprecationWarning: BICUBIC is deprecated and will be removed in Pillow 10 (2023-07-01). Use Resampling.BICUBIC instead.\n",
      "  pil = transforms.Resize(size=(512, 512), interpolation=Image.BICUBIC)(pil)\n"
     ]
    }
   ],
   "source": [
    "path = \"../gol/ccpl/\"\n",
    "print(\"ccpl\")\n",
    "do(path)\n",
    "\n",
    "path = \"../gol/clipstyler/\"\n",
    "print(\"clipstyler\")\n",
    "do(path)\n",
    "\n",
    "path = \"../gol/diffusion/\"\n",
    "print(\"diffusion\")\n",
    "do(path)\n",
    "\n",
    "path = \"../gol/nada/\"\n",
    "print(\"nada\")\n",
    "do(path)\n",
    "\n",
    "path = \"../gol/ours/\"\n",
    "print(\"ours\")\n",
    "do(path)\n",
    "\n",
    "path = \"../gol/styleclip/\"\n",
    "print(\"styleclip\")\n",
    "do(path)"
   ],
   "metadata": {
    "collapsed": false,
    "pycharm": {
     "name": "#%%\n"
    }
   }
  },
  {
   "cell_type": "code",
   "execution_count": 20,
   "outputs": [
    {
     "name": "stderr",
     "output_type": "stream",
     "text": [
      "C:\\Users\\win10\\AppData\\Local\\Temp\\ipykernel_39820\\356869993.py:9: DeprecationWarning: BICUBIC is deprecated and will be removed in Pillow 10 (2023-07-01). Use Resampling.BICUBIC instead.\n",
      "  pil = transforms.Resize(size=(512, 512), interpolation=Image.BICUBIC)(pil)\n"
     ]
    },
    {
     "name": "stdout",
     "output_type": "stream",
     "text": [
      "ccpl\n",
      "0.7781982421875\n",
      "\n"
     ]
    }
   ],
   "source": [
    "path = \"../gol/ccpl/\"\n",
    "names = getnames(path)\n",
    "features = [getfeature(x) for x in names]\n",
    "\n",
    "loss = 0\n",
    "for i in range(len(names)):\n",
    "    full_path = path+names[i]\n",
    "    pil = Image.open(full_path)\n",
    "    pil = transforms.Resize(size=(512, 512), interpolation=Image.BICUBIC)(pil)\n",
    "    pic = topic(pil).unsqueeze(0).to(device)\n",
    "    gol_loss = cliploss.forward_gol(None, \"\", pic, features[i])\n",
    "    loss+=gol_loss.item()\n",
    "loss = loss/len(names)\n",
    "\n",
    "print(\"ccpl\")\n",
    "print(loss)\n",
    "print()"
   ],
   "metadata": {
    "collapsed": false,
    "pycharm": {
     "name": "#%%\n"
    }
   }
  },
  {
   "cell_type": "code",
   "execution_count": 21,
   "outputs": [],
   "source": [
    "device = \"cuda\" if torch.cuda.is_available() else \"cpu\"\n",
    "cliploss = CLIPLoss(device)"
   ],
   "metadata": {
    "collapsed": false,
    "pycharm": {
     "name": "#%%\n"
    }
   }
  },
  {
   "cell_type": "code",
   "execution_count": 21,
   "outputs": [],
   "source": [],
   "metadata": {
    "collapsed": false,
    "pycharm": {
     "name": "#%%\n"
    }
   }
  },
  {
   "cell_type": "code",
   "execution_count": 21,
   "outputs": [],
   "source": [],
   "metadata": {
    "collapsed": false,
    "pycharm": {
     "name": "#%%\n"
    }
   }
  },
  {
   "cell_type": "code",
   "execution_count": 21,
   "outputs": [],
   "source": [],
   "metadata": {
    "collapsed": false,
    "pycharm": {
     "name": "#%%\n"
    }
   }
  },
  {
   "cell_type": "code",
   "execution_count": 21,
   "outputs": [],
   "source": [],
   "metadata": {
    "collapsed": false,
    "pycharm": {
     "name": "#%%\n"
    }
   }
  },
  {
   "cell_type": "code",
   "execution_count": 22,
   "outputs": [],
   "source": [
    "from loss.loss import CLIPLoss\n",
    "from utils.func import get_features,vgg_normalize"
   ],
   "metadata": {
    "collapsed": false,
    "pycharm": {
     "name": "#%%\n"
    }
   }
  }
 ],
 "metadata": {
  "kernelspec": {
   "display_name": "Python 3",
   "language": "python",
   "name": "python3"
  },
  "language_info": {
   "codemirror_mode": {
    "name": "ipython",
    "version": 2
   },
   "file_extension": ".py",
   "mimetype": "text/x-python",
   "name": "python",
   "nbconvert_exporter": "python",
   "pygments_lexer": "ipython2",
   "version": "2.7.6"
  }
 },
 "nbformat": 4,
 "nbformat_minor": 0
}