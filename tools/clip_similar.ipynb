{
 "cells": [
  {
   "cell_type": "code",
   "execution_count": 19,
   "outputs": [],
   "source": [
    "from PIL import Image\n",
    "import numpy as np\n",
    "\n",
    "import torch\n",
    "import torch.nn\n",
    "import torch.optim as optim\n",
    "from torchvision import transforms, models\n",
    "\n",
    "import network.styler as StyleNet\n",
    "\n",
    "import utils.func as func\n",
    "\n",
    "\n",
    "import clip\n",
    "import torch.nn.functional as F\n",
    "from utils.text_templates import imagenet_templates\n",
    "\n",
    "import random\n",
    "\n",
    "from PIL import Image \n",
    "import PIL \n",
    "from torchvision import utils as vutils\n",
    "import argparse\n",
    "from torchvision.transforms.functional import adjust_contrast\n",
    "\n",
    "from matplotlib import pyplot as plt"
   ],
   "metadata": {
    "collapsed": false,
    "pycharm": {
     "name": "#%%\n"
    }
   }
  },
  {
   "cell_type": "code",
   "execution_count": 20,
   "outputs": [],
   "source": [
    "topil = transforms.ToPILImage()\n",
    "topic = transforms.ToTensor()"
   ],
   "metadata": {
    "collapsed": false,
    "pycharm": {
     "name": "#%%\n"
    }
   }
  },
  {
   "cell_type": "code",
   "execution_count": 21,
   "outputs": [],
   "source": [
    "model,pre = clip.load('ViT-B/32', device=\"cuda\")"
   ],
   "metadata": {
    "collapsed": false,
    "pycharm": {
     "name": "#%%\n"
    }
   }
  },
  {
   "cell_type": "code",
   "execution_count": 22,
   "outputs": [],
   "source": [
    "score_func = torch.nn.CosineSimilarity()"
   ],
   "metadata": {
    "collapsed": false,
    "pycharm": {
     "name": "#%%\n"
    }
   }
  },
  {
   "cell_type": "code",
   "execution_count": 53,
   "outputs": [],
   "source": [
    "import numpy\n",
    "from numpy import cov\n",
    "from numpy import trace\n",
    "from numpy import iscomplexobj\n",
    "from numpy.random import random\n",
    "from scipy.linalg import sqrtm\n",
    "\n",
    "def calculate_fid(act1, act2):\n",
    "    print(act1.shape)\n",
    "    # calculate mean and covariance statistics\n",
    "    mu1, sigma1 = act1.mean(axis= 0), cov(act1, rowvar= False)\n",
    "    mu2, sigma2 = act2.mean(axis= 0), cov(act2, rowvar= False)\n",
    "\n",
    "    # calculate sum squared difference between means\n",
    "    ssdiff = numpy.sum((mu1 - mu2)**2.0)\n",
    "\n",
    "    # calculate sqrt of product between cov\n",
    "    covmean = sigma1.dot(sigma2)**0.5\n",
    "\n",
    "    # check and correct imaginary numbers from sqrt\n",
    "    if iscomplexobj(covmean):\n",
    "        covmean = covmean.real\n",
    "        # calculate score\n",
    "    fid = ssdiff + trace(sigma1 + sigma2 - 2.0*covmean)\n",
    "    return fid"
   ],
   "metadata": {
    "collapsed": false,
    "pycharm": {
     "name": "#%%\n"
    }
   }
  },
  {
   "cell_type": "code",
   "execution_count": 55,
   "outputs": [],
   "source": [
    "def get_score(path1, path2):\n",
    "    pil1 = Image.open(path1)\n",
    "    p1 = pre(pil1).unsqueeze(0).to(\"cuda\")\n",
    "    v1 = model.encode_image(p1)\n",
    "\n",
    "    pil2 = Image.open(path2)\n",
    "    p2 = pre(pil2).unsqueeze(0).to(\"cuda\")\n",
    "    v2 = model.encode_image(p2)\n",
    "\n",
    "    res = score_func(v1,v2)\n",
    "\n",
    "    v1 = torch.cat([v1,v1],dim=0)\n",
    "    v2 = torch.cat([v2,v2],dim=0)\n",
    "    fid = calculate_fid(v1.cpu().detach().numpy(),v2.cpu().detach().numpy())\n",
    "\n",
    "    return res.item(),fid"
   ],
   "metadata": {
    "collapsed": false,
    "pycharm": {
     "name": "#%%\n"
    }
   }
  },
  {
   "cell_type": "code",
   "execution_count": 25,
   "outputs": [],
   "source": [
    "path1 = \"../result/result01.jpg\"\n",
    "path2 = \"../source_pic/emma.jpg\""
   ],
   "metadata": {
    "collapsed": false,
    "pycharm": {
     "name": "#%%\n"
    }
   }
  },
  {
   "cell_type": "code",
   "execution_count": 56,
   "outputs": [
    {
     "name": "stdout",
     "output_type": "stream",
     "text": [
      "(2, 512)\n",
      "(0.89892578125, 20.734375)\n"
     ]
    }
   ],
   "source": [
    "res = get_score(path1, path2)\n",
    "print(res)"
   ],
   "metadata": {
    "collapsed": false,
    "pycharm": {
     "name": "#%%\n"
    }
   }
  }
 ],
 "metadata": {
  "kernelspec": {
   "display_name": "Python 3",
   "language": "python",
   "name": "python3"
  },
  "language_info": {
   "codemirror_mode": {
    "name": "ipython",
    "version": 2
   },
   "file_extension": ".py",
   "mimetype": "text/x-python",
   "name": "python",
   "nbconvert_exporter": "python",
   "pygments_lexer": "ipython2",
   "version": "2.7.6"
  }
 },
 "nbformat": 4,
 "nbformat_minor": 0
}