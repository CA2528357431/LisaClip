{
 "cells": [
  {
   "cell_type": "code",
   "execution_count": 1,
   "metadata": {
    "collapsed": true
   },
   "outputs": [],
   "source": [
    "import torch\n",
    "import torch.optim as optim\n",
    "import torchvision\n",
    "import torchvision.transforms as transforms\n",
    "from PIL import Image\n",
    "\n",
    "from network.styler import Unet\n",
    "from loss.loss import CLIPLoss\n",
    "from utils.func import get_features,vgg_normalize\n",
    "\n",
    "import time\n",
    "\n",
    "\n"
   ]
  },
  {
   "cell_type": "code",
   "execution_count": 2,
   "outputs": [],
   "source": [
    "device = \"cuda\" if torch.cuda.is_available() else \"cpu\"\n",
    "\n",
    "lr1 = 0.0001\n",
    "lr2 = 0.0003\n",
    "# model = Unet(device)\n",
    "model = Unet().to(device)\n",
    "cliploss = CLIPLoss(device)\n",
    "mseloss = torch.nn.MSELoss()\n",
    "vgg = torchvision.models.vgg19(pretrained=True).features.to(device)\n",
    "for x in vgg.parameters():\n",
    "    x.requires_grad = False\n",
    "\n",
    "\n",
    "topil = transforms.ToPILImage()\n",
    "topic = transforms.ToTensor()\n",
    "\n",
    "dir_lambda = 500\n",
    "content_lambda = 150\n",
    "patch_lambda = 9000\n",
    "norm_lambda = 0.002\n",
    "gol_lambda = 300"
   ],
   "metadata": {
    "collapsed": false,
    "pycharm": {
     "name": "#%%\n"
    }
   }
  },
  {
   "cell_type": "code",
   "execution_count": 3,
   "outputs": [],
   "source": [
    "file_cmp_outer = open(\"styler.txt\", \"r\")\n",
    "loss_li = file_cmp_outer.readline()\n",
    "loss_li = [float(x) for x in loss_li.split()]\n",
    "if not loss_li:\n",
    "    loss_li = [0]*200\n",
    "\n",
    "cur_times = int(file_cmp_outer.readline())"
   ],
   "metadata": {
    "collapsed": false,
    "pycharm": {
     "name": "#%%\n"
    }
   }
  },
  {
   "cell_type": "code",
   "execution_count": 4,
   "outputs": [],
   "source": [
    "def train(iteration1, iteration2, pic, source, target, path):\n",
    "    input = pic\n",
    "\n",
    "    opt = optim.Adam(model.parameters(), lr=lr1)\n",
    "    for i in range(iteration1):\n",
    "        opt.zero_grad()\n",
    "        neo_pic = model(input)\n",
    "        loss = mseloss(pic, neo_pic) * content_lambda\n",
    "        loss.backward()\n",
    "        opt.step()\n",
    "        # pil = topil(neo_pic.squeeze(0).cpu())\n",
    "        # print(\"iter:\", i + 1, \"loss:\", loss.item())\n",
    "        # if ((i + 1) % 50) == 0:\n",
    "        #     pil.save(f\"./pic1/{(i + 1) // 50}.jpg\")\n",
    "    #\n",
    "    #\n",
    "    # torch.save(model,'unet.pth')\n",
    "\n",
    "    with torch.no_grad():\n",
    "        neo_pic = model(input)\n",
    "        pil = topil(neo_pic.squeeze(0).cpu())\n",
    "        pil = transforms.Resize(size=ori_size, interpolation=Image.BICUBIC)(pil)\n",
    "        pil.save(f\"mid.jpg\")\n",
    "\n",
    "    # model = torch.load('unet.pth')\n",
    "\n",
    "    pic_f = get_features(vgg_normalize(pic),vgg)\n",
    "\n",
    "    opt = optim.Adam(model.parameters(), lr=lr2)\n",
    "    sch = torch.optim.lr_scheduler.StepLR(opt, step_size=100, gamma=0.5)\n",
    "    for i in range(iteration2):\n",
    "\n",
    "\n",
    "        opt.zero_grad()\n",
    "        neo_pic = model(input)\n",
    "\n",
    "        dir_loss = 0\n",
    "        dir_loss += cliploss.forward_dir(pic, source, neo_pic, target)\n",
    "\n",
    "        gol_loss = 0\n",
    "        # gol_loss += cliploss.forward_gol(pic, source, neo_pic, target)\n",
    "\n",
    "        content_loss = 0\n",
    "        neo_pic_f = get_features(vgg_normalize(neo_pic), vgg)\n",
    "        content_loss += torch.mean((pic_f['conv4_2'] - neo_pic_f['conv4_2']) ** 2)\n",
    "        content_loss += torch.mean((pic_f['conv5_2'] - neo_pic_f['conv5_2']) ** 2)\n",
    "\n",
    "        patch_loss = 0\n",
    "        patch_loss += cliploss.forward_patch(pic, source, neo_pic, target)\n",
    "        # f,s,_ = cliploss.forward_patch_sec(pic, source, neo_pic, target)\n",
    "        # patch_loss += f+s\n",
    "\n",
    "        norm_loss = 0\n",
    "        norm_loss += cliploss.forward_prior(pic, source, neo_pic, target)\n",
    "\n",
    "        loss = dir_loss * dir_lambda + \\\n",
    "               content_loss * content_lambda + \\\n",
    "               patch_loss * patch_lambda + \\\n",
    "               norm_loss * norm_lambda + \\\n",
    "               gol_loss * gol_lambda\n",
    "\n",
    "        loss.backward()\n",
    "        opt.step()\n",
    "        sch.step()\n",
    "\n",
    "        loss_li[i]+=(loss.item())\n",
    "\n",
    "        print(\"iter:\", i + 1, \"loss:\", loss.item())\n",
    "\n",
    "\n",
    "        if (i+1)%10==0  or i==0:\n",
    "            neo_pic = model(input)\n",
    "            pil = topil(neo_pic.squeeze(0).cpu())\n",
    "            pil = transforms.Resize(size=ori_size, interpolation=Image.BICUBIC)(pil)\n",
    "            pil.save(f\"mid/{i//10}.jpg\")\n",
    "\n",
    "    # neo_pic = model(input)\n",
    "    # pil = topil(neo_pic.squeeze(0).cpu())\n",
    "    # # pil.save(f\"{source}-{target}.jpg\")\n",
    "    # pil.save(path)"
   ],
   "metadata": {
    "collapsed": false,
    "pycharm": {
     "name": "#%%\n"
    }
   }
  },
  {
   "cell_type": "code",
   "execution_count": 5,
   "outputs": [
    {
     "name": "stderr",
     "output_type": "stream",
     "text": [
      "C:\\Users\\win10\\AppData\\Local\\Temp\\ipykernel_3328\\3799126218.py:3: DeprecationWarning: BICUBIC is deprecated and will be removed in Pillow 10 (2023-07-01). Use Resampling.BICUBIC instead.\n",
      "  pil = transforms.Resize(size=(512, 512), interpolation=Image.BICUBIC)(pil)\n",
      "E:\\Anaconda\\envs\\sth\\lib\\site-packages\\torchvision\\transforms\\transforms.py:257: UserWarning: Argument interpolation should be of type InterpolationMode instead of int. Please, use InterpolationMode enum.\n",
      "  warnings.warn(\n"
     ]
    }
   ],
   "source": [
    "pil = Image.open(f\"./source_pic/emma.jpg\")\n",
    "ori_size = pil.size[::-1]\n",
    "pil = transforms.Resize(size=(512, 512), interpolation=Image.BICUBIC)(pil)\n",
    "pic = topic(pil).unsqueeze(0).to(device)\n",
    "# pic = torch.ones(1, 3, 512, 512).to(device)\n",
    "pic.requires_grad = False"
   ],
   "metadata": {
    "collapsed": false,
    "pycharm": {
     "name": "#%%\n"
    }
   }
  },
  {
   "cell_type": "code",
   "execution_count": 6,
   "outputs": [],
   "source": [
    "# source = \"photo\"\n",
    "# source = \"black swan\"\n",
    "source = \"woman\"\n",
    "\n",
    "# target = \"pixar\"\n",
    "# target = \"cubism\"\n",
    "target = \"Mark Elliot Zuckerberg\"\n",
    "# target = \"Metal\"\n",
    "# target = \"Neon Light\"\n",
    "# target = \"white swan\"\n",
    "# target = \"Pixar\"\n",
    "# target = \"pop art of night city\"\n",
    "# target = \"starry night by Van Gogh\"\n",
    "# target = \"the scream by Edvard Munch\"\n",
    "# target = \"Monet\"\n",
    "# target = \"cyberpunk 2077\"\n",
    "# target = \"Chinese Ink and wash painting\"\n",
    "# target = \"fire\"\n",
    "# target = \"woman\"\n",
    "# target = \"man with dark black skin and black hair\"\n",
    "# target = \"gold boat\"\n",
    "# target = \"The great wave off kanagawa by Hokusai\"\n",
    "# target = \"angry peppa pig\"\n",
    "\n",
    "path = \"result/result1.jpg\""
   ],
   "metadata": {
    "collapsed": false,
    "pycharm": {
     "name": "#%%\n"
    }
   }
  },
  {
   "cell_type": "code",
   "execution_count": 7,
   "outputs": [
    {
     "name": "stderr",
     "output_type": "stream",
     "text": [
      "C:\\Users\\win10\\AppData\\Local\\Temp\\ipykernel_3328\\1604932916.py:22: DeprecationWarning: BICUBIC is deprecated and will be removed in Pillow 10 (2023-07-01). Use Resampling.BICUBIC instead.\n",
      "  pil = transforms.Resize(size=ori_size, interpolation=Image.BICUBIC)(pil)\n",
      "C:\\Users\\win10\\AppData\\Local\\Temp\\ipykernel_3328\\1604932916.py:74: DeprecationWarning: BICUBIC is deprecated and will be removed in Pillow 10 (2023-07-01). Use Resampling.BICUBIC instead.\n",
      "  pil = transforms.Resize(size=ori_size, interpolation=Image.BICUBIC)(pil)\n"
     ]
    },
    {
     "name": "stdout",
     "output_type": "stream",
     "text": [
      "iter: 1 loss: 10275.0244140625\n",
      "iter: 2 loss: 10248.927734375\n",
      "iter: 3 loss: 10120.09375\n",
      "iter: 4 loss: 10027.1611328125\n",
      "iter: 5 loss: 9839.421875\n",
      "iter: 6 loss: 9760.21875\n",
      "iter: 7 loss: 9670.7109375\n",
      "iter: 8 loss: 9516.705078125\n",
      "iter: 9 loss: 9314.1142578125\n",
      "iter: 10 loss: 9323.27734375\n",
      "iter: 11 loss: 9110.296875\n",
      "iter: 12 loss: 8968.4736328125\n",
      "iter: 13 loss: 8843.4970703125\n",
      "iter: 14 loss: 8771.7265625\n",
      "iter: 15 loss: 8730.2001953125\n",
      "iter: 16 loss: 8174.3017578125\n",
      "iter: 17 loss: 8366.6064453125\n",
      "iter: 18 loss: 8125.93359375\n",
      "iter: 19 loss: 7682.9580078125\n",
      "iter: 20 loss: 7761.54541015625\n",
      "iter: 21 loss: 7110.607421875\n",
      "iter: 22 loss: 7328.0751953125\n",
      "iter: 23 loss: 6463.55810546875\n",
      "iter: 24 loss: 6847.74560546875\n",
      "iter: 25 loss: 7762.07958984375\n",
      "iter: 26 loss: 5951.7978515625\n",
      "iter: 27 loss: 7017.71240234375\n",
      "iter: 28 loss: 5606.15966796875\n",
      "iter: 29 loss: 6066.39501953125\n",
      "iter: 30 loss: 5602.75830078125\n",
      "iter: 31 loss: 6021.6279296875\n",
      "iter: 32 loss: 5621.32275390625\n",
      "iter: 33 loss: 5999.37353515625\n",
      "iter: 34 loss: 6057.45166015625\n",
      "iter: 35 loss: 5575.06640625\n",
      "iter: 36 loss: 5489.12353515625\n",
      "iter: 37 loss: 4197.80859375\n",
      "iter: 38 loss: 5776.94482421875\n",
      "iter: 39 loss: 4817.06591796875\n",
      "iter: 40 loss: 4944.31396484375\n",
      "iter: 41 loss: 4509.48388671875\n",
      "iter: 42 loss: 5076.69140625\n",
      "iter: 43 loss: 4955.92724609375\n",
      "iter: 44 loss: 5013.748046875\n",
      "iter: 45 loss: 4505.08251953125\n",
      "iter: 46 loss: 4454.0703125\n",
      "iter: 47 loss: 5098.65234375\n",
      "iter: 48 loss: 3810.19970703125\n",
      "iter: 49 loss: 4626.671875\n",
      "iter: 50 loss: 4780.900390625\n",
      "iter: 51 loss: 3496.385009765625\n",
      "iter: 52 loss: 3458.659423828125\n",
      "iter: 53 loss: 3353.771240234375\n",
      "iter: 54 loss: 4180.0009765625\n",
      "iter: 55 loss: 3338.60400390625\n",
      "iter: 56 loss: 3116.59912109375\n",
      "iter: 57 loss: 4037.29736328125\n",
      "iter: 58 loss: 3774.180419921875\n",
      "iter: 59 loss: 3382.86962890625\n",
      "iter: 60 loss: 3018.8935546875\n",
      "iter: 61 loss: 2587.437255859375\n",
      "iter: 62 loss: 3071.701904296875\n",
      "iter: 63 loss: 2761.434326171875\n",
      "iter: 64 loss: 3169.082275390625\n",
      "iter: 65 loss: 2645.4951171875\n",
      "iter: 66 loss: 2819.513916015625\n",
      "iter: 67 loss: 2426.356689453125\n",
      "iter: 68 loss: 2725.80126953125\n",
      "iter: 69 loss: 2307.149169921875\n",
      "iter: 70 loss: 2826.563232421875\n",
      "iter: 71 loss: 2608.674072265625\n",
      "iter: 72 loss: 1984.69482421875\n",
      "iter: 73 loss: 2782.57177734375\n",
      "iter: 74 loss: 2487.468994140625\n",
      "iter: 75 loss: 2257.229736328125\n",
      "iter: 76 loss: 1968.1668701171875\n",
      "iter: 77 loss: 2258.7001953125\n",
      "iter: 78 loss: 3283.882080078125\n",
      "iter: 79 loss: 1847.2012939453125\n",
      "iter: 80 loss: 2467.22607421875\n",
      "iter: 81 loss: 2355.8525390625\n",
      "iter: 82 loss: 2344.8291015625\n",
      "iter: 83 loss: 2546.603271484375\n",
      "iter: 84 loss: 1847.54248046875\n",
      "iter: 85 loss: 2245.85009765625\n",
      "iter: 86 loss: 1633.7039794921875\n",
      "iter: 87 loss: 1526.033203125\n",
      "iter: 88 loss: 2003.346435546875\n",
      "iter: 89 loss: 2513.55419921875\n",
      "iter: 90 loss: 2211.576416015625\n",
      "iter: 91 loss: 2094.048095703125\n",
      "iter: 92 loss: 2205.19873046875\n",
      "iter: 93 loss: 2410.534423828125\n",
      "iter: 94 loss: 1596.48974609375\n",
      "iter: 95 loss: 1918.9241943359375\n",
      "iter: 96 loss: 2085.23974609375\n",
      "iter: 97 loss: 1892.5511474609375\n",
      "iter: 98 loss: 1596.6278076171875\n",
      "iter: 99 loss: 1280.46630859375\n",
      "iter: 100 loss: 1880.322509765625\n",
      "iter: 101 loss: 1865.0926513671875\n",
      "iter: 102 loss: 1879.7603759765625\n",
      "iter: 103 loss: 1476.0496826171875\n",
      "iter: 104 loss: 1457.1563720703125\n",
      "iter: 105 loss: 1760.922119140625\n",
      "iter: 106 loss: 1757.744384765625\n",
      "iter: 107 loss: 952.452392578125\n",
      "iter: 108 loss: 1358.500732421875\n",
      "iter: 109 loss: 1343.71630859375\n",
      "iter: 110 loss: 1934.882568359375\n",
      "iter: 111 loss: 1737.486328125\n",
      "iter: 112 loss: 1336.3575439453125\n",
      "iter: 113 loss: 1849.647705078125\n",
      "iter: 114 loss: 1238.8033447265625\n",
      "iter: 115 loss: 1332.3145751953125\n",
      "iter: 116 loss: 1026.3819580078125\n",
      "iter: 117 loss: 1123.0469970703125\n",
      "iter: 118 loss: 1429.316650390625\n",
      "iter: 119 loss: 1844.77001953125\n",
      "iter: 120 loss: 1822.0992431640625\n",
      "iter: 121 loss: 1316.7572021484375\n",
      "iter: 122 loss: 810.1468505859375\n",
      "iter: 123 loss: 1518.48681640625\n",
      "iter: 124 loss: 1520.13232421875\n",
      "iter: 125 loss: 807.2008056640625\n",
      "iter: 126 loss: 1613.82080078125\n",
      "iter: 127 loss: 1316.6953125\n",
      "iter: 128 loss: 902.3818969726562\n",
      "iter: 129 loss: 1393.867431640625\n",
      "iter: 130 loss: 892.0301513671875\n",
      "iter: 131 loss: 1788.4127197265625\n",
      "iter: 132 loss: 1680.7906494140625\n",
      "iter: 133 loss: 996.6570434570312\n",
      "iter: 134 loss: 1605.63818359375\n",
      "iter: 135 loss: 1188.1998291015625\n",
      "iter: 136 loss: 1285.088623046875\n",
      "iter: 137 loss: 785.6587524414062\n",
      "iter: 138 loss: 1182.0125732421875\n",
      "iter: 139 loss: 980.6756591796875\n",
      "iter: 140 loss: 1078.4566650390625\n",
      "iter: 141 loss: 1384.3857421875\n",
      "iter: 142 loss: 1177.00341796875\n",
      "iter: 143 loss: 1175.0364990234375\n",
      "iter: 144 loss: 1075.9267578125\n",
      "iter: 145 loss: 1380.4766845703125\n",
      "iter: 146 loss: 967.55224609375\n",
      "iter: 147 loss: 973.2142944335938\n",
      "iter: 148 loss: 1171.100830078125\n",
      "iter: 149 loss: 1262.510986328125\n",
      "iter: 150 loss: 1070.4747314453125\n",
      "iter: 151 loss: 1271.8004150390625\n",
      "iter: 152 loss: 974.7362670898438\n",
      "iter: 153 loss: 964.1679077148438\n",
      "iter: 154 loss: 1156.0203857421875\n",
      "iter: 155 loss: 1257.5504150390625\n",
      "iter: 156 loss: 1266.447265625\n",
      "iter: 157 loss: 1477.001220703125\n",
      "iter: 158 loss: 860.0855102539062\n",
      "iter: 159 loss: 1464.7947998046875\n",
      "iter: 160 loss: 1256.3065185546875\n",
      "iter: 161 loss: 1156.4765625\n",
      "iter: 162 loss: 861.509033203125\n",
      "iter: 163 loss: 1152.145751953125\n",
      "iter: 164 loss: 1558.7037353515625\n",
      "iter: 165 loss: 1452.447265625\n",
      "iter: 166 loss: 945.1187133789062\n",
      "iter: 167 loss: 1453.4984130859375\n",
      "iter: 168 loss: 1248.607177734375\n",
      "iter: 169 loss: 1046.23291015625\n",
      "iter: 170 loss: 1046.31787109375\n",
      "iter: 171 loss: 1140.6729736328125\n",
      "iter: 172 loss: 1346.8341064453125\n",
      "iter: 173 loss: 1232.5028076171875\n",
      "iter: 174 loss: 1438.4149169921875\n",
      "iter: 175 loss: 745.7489624023438\n",
      "iter: 176 loss: 843.0776977539062\n",
      "iter: 177 loss: 839.2395629882812\n",
      "iter: 178 loss: 842.23095703125\n",
      "iter: 179 loss: 1644.6541748046875\n",
      "iter: 180 loss: 835.824951171875\n",
      "iter: 181 loss: 1141.398681640625\n",
      "iter: 182 loss: 1034.4371337890625\n",
      "iter: 183 loss: 832.4353637695312\n",
      "iter: 184 loss: 1123.57861328125\n",
      "iter: 185 loss: 931.4871826171875\n",
      "iter: 186 loss: 828.2890014648438\n",
      "iter: 187 loss: 825.29443359375\n",
      "iter: 188 loss: 1523.206298828125\n",
      "iter: 189 loss: 1028.9189453125\n",
      "iter: 190 loss: 930.6357421875\n",
      "iter: 191 loss: 918.4921264648438\n",
      "iter: 192 loss: 1322.316162109375\n",
      "iter: 193 loss: 718.7554321289062\n",
      "iter: 194 loss: 518.0184326171875\n",
      "iter: 195 loss: 1013.817138671875\n",
      "iter: 196 loss: 1020.3588256835938\n",
      "iter: 197 loss: 1410.7713623046875\n",
      "iter: 198 loss: 914.0454711914062\n",
      "iter: 199 loss: 1411.276123046875\n",
      "iter: 200 loss: 914.84716796875\n",
      "usetime: 97.09195828437805\n"
     ]
    }
   ],
   "source": [
    "start = time.time()\n",
    "train(0, 200, pic, source, target, path)\n",
    "end = time.time()\n",
    "usetime = end - start\n",
    "print(f\"usetime: {usetime}\")"
   ],
   "metadata": {
    "collapsed": false,
    "pycharm": {
     "name": "#%%\n"
    }
   }
  },
  {
   "cell_type": "code",
   "execution_count": 8,
   "outputs": [
    {
     "name": "stderr",
     "output_type": "stream",
     "text": [
      "C:\\Users\\win10\\AppData\\Local\\Temp\\ipykernel_3328\\1981065163.py:3: DeprecationWarning: BICUBIC is deprecated and will be removed in Pillow 10 (2023-07-01). Use Resampling.BICUBIC instead.\n",
      "  pil = transforms.Resize(size=ori_size, interpolation=Image.BICUBIC)(pil)\n"
     ]
    }
   ],
   "source": [
    "neo_pic = model(pic)\n",
    "pil = topil(neo_pic.squeeze(0).cpu())\n",
    "pil = transforms.Resize(size=ori_size, interpolation=Image.BICUBIC)(pil)\n",
    "pil.save(path)\n"
   ],
   "metadata": {
    "collapsed": false,
    "pycharm": {
     "name": "#%%\n"
    }
   }
  },
  {
   "cell_type": "code",
   "execution_count": 9,
   "outputs": [],
   "source": [
    "# with open(file = \"neo_cmp_outer.txt\", mode = \"w\") as file:\n",
    "#     for i in loss_li:\n",
    "#         file.write(str(i)+\" \")\n",
    "#     file.write(\"\\n\")\n",
    "#     file.write(str(cur_times+1))"
   ],
   "metadata": {
    "collapsed": false,
    "pycharm": {
     "name": "#%%\n"
    }
   }
  },
  {
   "cell_type": "code",
   "execution_count": 10,
   "outputs": [
    {
     "data": {
      "text/plain": "[<matplotlib.lines.Line2D at 0x246d50e1dc0>]"
     },
     "execution_count": 10,
     "metadata": {},
     "output_type": "execute_result"
    },
    {
     "data": {
      "text/plain": "<Figure size 640x480 with 1 Axes>",
      "image/png": "[encoded data removed]"
     },
     "metadata": {},
     "output_type": "display_data"
    }
   ],
   "source": [
    "import matplotlib.pyplot as plt\n",
    "\n",
    "x = [i for i in range(200)]\n",
    "loss_li = [x/(cur_times+1) for x in loss_li]\n",
    "plt.plot(x,loss_li,color=\"red\",marker=\"o\")\n",
    "\n"
   ],
   "metadata": {
    "collapsed": false,
    "pycharm": {
     "name": "#%%\n"
    }
   }
  }
 ],
 "metadata": {
  "kernelspec": {
   "display_name": "Python 3",
   "language": "python",
   "name": "python3"
  },
  "language_info": {
   "codemirror_mode": {
    "name": "ipython",
    "version": 2
   },
   "file_extension": ".py",
   "mimetype": "text/x-python",
   "name": "python",
   "nbconvert_exporter": "python",
   "pygments_lexer": "ipython2",
   "version": "2.7.6"
  }
 },
 "nbformat": 4,
 "nbformat_minor": 0
}